{
 "cells": [
  {
   "cell_type": "code",
   "execution_count": 1,
   "metadata": {},
   "outputs": [],
   "source": [
    "# read and write using pandas"
   ]
  },
  {
   "cell_type": "code",
   "execution_count": 9,
   "metadata": {},
   "outputs": [],
   "source": [
    "import os"
   ]
  },
  {
   "cell_type": "code",
   "execution_count": 8,
   "metadata": {},
   "outputs": [
    {
     "data": {
      "text/html": [
       "<div>\n",
       "<style scoped>\n",
       "    .dataframe tbody tr th:only-of-type {\n",
       "        vertical-align: middle;\n",
       "    }\n",
       "\n",
       "    .dataframe tbody tr th {\n",
       "        vertical-align: top;\n",
       "    }\n",
       "\n",
       "    .dataframe thead th {\n",
       "        text-align: right;\n",
       "    }\n",
       "</style>\n",
       "<table border=\"1\" class=\"dataframe\">\n",
       "  <thead>\n",
       "    <tr style=\"text-align: right;\">\n",
       "      <th></th>\n",
       "      <th>MAKE</th>\n",
       "      <th>FUELTYPE</th>\n",
       "      <th>ASPIRE</th>\n",
       "      <th>DOORS</th>\n",
       "      <th>BODY</th>\n",
       "      <th>DRIVE</th>\n",
       "      <th>CYLINDERS</th>\n",
       "      <th>HP</th>\n",
       "      <th>RPM</th>\n",
       "      <th>MPG-CITY</th>\n",
       "      <th>MPG-HWY</th>\n",
       "      <th>PRICE</th>\n",
       "    </tr>\n",
       "  </thead>\n",
       "  <tbody>\n",
       "    <tr>\n",
       "      <th>0</th>\n",
       "      <td>subaru</td>\n",
       "      <td>gas</td>\n",
       "      <td>std</td>\n",
       "      <td>two</td>\n",
       "      <td>hatchback</td>\n",
       "      <td>fwd</td>\n",
       "      <td>four</td>\n",
       "      <td>69</td>\n",
       "      <td>4900</td>\n",
       "      <td>31</td>\n",
       "      <td>36</td>\n",
       "      <td>5118</td>\n",
       "    </tr>\n",
       "    <tr>\n",
       "      <th>1</th>\n",
       "      <td>chevrolet</td>\n",
       "      <td>gas</td>\n",
       "      <td>std</td>\n",
       "      <td>two</td>\n",
       "      <td>hatchback</td>\n",
       "      <td>fwd</td>\n",
       "      <td>three</td>\n",
       "      <td>48</td>\n",
       "      <td>5100</td>\n",
       "      <td>47</td>\n",
       "      <td>53</td>\n",
       "      <td>5151</td>\n",
       "    </tr>\n",
       "    <tr>\n",
       "      <th>2</th>\n",
       "      <td>mazda</td>\n",
       "      <td>gas</td>\n",
       "      <td>std</td>\n",
       "      <td>two</td>\n",
       "      <td>hatchback</td>\n",
       "      <td>fwd</td>\n",
       "      <td>four</td>\n",
       "      <td>68</td>\n",
       "      <td>5000</td>\n",
       "      <td>30</td>\n",
       "      <td>31</td>\n",
       "      <td>5195</td>\n",
       "    </tr>\n",
       "    <tr>\n",
       "      <th>3</th>\n",
       "      <td>toyota</td>\n",
       "      <td>gas</td>\n",
       "      <td>std</td>\n",
       "      <td>two</td>\n",
       "      <td>hatchback</td>\n",
       "      <td>fwd</td>\n",
       "      <td>four</td>\n",
       "      <td>62</td>\n",
       "      <td>4800</td>\n",
       "      <td>35</td>\n",
       "      <td>39</td>\n",
       "      <td>5348</td>\n",
       "    </tr>\n",
       "    <tr>\n",
       "      <th>4</th>\n",
       "      <td>mitsubishi</td>\n",
       "      <td>gas</td>\n",
       "      <td>std</td>\n",
       "      <td>two</td>\n",
       "      <td>hatchback</td>\n",
       "      <td>fwd</td>\n",
       "      <td>four</td>\n",
       "      <td>68</td>\n",
       "      <td>5500</td>\n",
       "      <td>37</td>\n",
       "      <td>41</td>\n",
       "      <td>5389</td>\n",
       "    </tr>\n",
       "    <tr>\n",
       "      <th>5</th>\n",
       "      <td>honda</td>\n",
       "      <td>gas</td>\n",
       "      <td>std</td>\n",
       "      <td>two</td>\n",
       "      <td>hatchback</td>\n",
       "      <td>fwd</td>\n",
       "      <td>four</td>\n",
       "      <td>60</td>\n",
       "      <td>5500</td>\n",
       "      <td>38</td>\n",
       "      <td>42</td>\n",
       "      <td>5399</td>\n",
       "    </tr>\n",
       "    <tr>\n",
       "      <th>6</th>\n",
       "      <td>nissan</td>\n",
       "      <td>gas</td>\n",
       "      <td>std</td>\n",
       "      <td>two</td>\n",
       "      <td>sedan</td>\n",
       "      <td>fwd</td>\n",
       "      <td>four</td>\n",
       "      <td>69</td>\n",
       "      <td>5200</td>\n",
       "      <td>31</td>\n",
       "      <td>37</td>\n",
       "      <td>5499</td>\n",
       "    </tr>\n",
       "    <tr>\n",
       "      <th>7</th>\n",
       "      <td>dodge</td>\n",
       "      <td>gas</td>\n",
       "      <td>std</td>\n",
       "      <td>two</td>\n",
       "      <td>hatchback</td>\n",
       "      <td>fwd</td>\n",
       "      <td>four</td>\n",
       "      <td>68</td>\n",
       "      <td>5500</td>\n",
       "      <td>37</td>\n",
       "      <td>41</td>\n",
       "      <td>5572</td>\n",
       "    </tr>\n",
       "    <tr>\n",
       "      <th>8</th>\n",
       "      <td>plymouth</td>\n",
       "      <td>gas</td>\n",
       "      <td>std</td>\n",
       "      <td>two</td>\n",
       "      <td>hatchback</td>\n",
       "      <td>fwd</td>\n",
       "      <td>four</td>\n",
       "      <td>68</td>\n",
       "      <td>5500</td>\n",
       "      <td>37</td>\n",
       "      <td>41</td>\n",
       "      <td>5572</td>\n",
       "    </tr>\n",
       "  </tbody>\n",
       "</table>\n",
       "</div>"
      ],
      "text/plain": [
       "         MAKE FUELTYPE ASPIRE DOORS       BODY DRIVE CYLINDERS  HP   RPM  \\\n",
       "0      subaru      gas    std   two  hatchback   fwd      four  69  4900   \n",
       "1   chevrolet      gas    std   two  hatchback   fwd     three  48  5100   \n",
       "2       mazda      gas    std   two  hatchback   fwd      four  68  5000   \n",
       "3      toyota      gas    std   two  hatchback   fwd      four  62  4800   \n",
       "4  mitsubishi      gas    std   two  hatchback   fwd      four  68  5500   \n",
       "5       honda      gas    std   two  hatchback   fwd      four  60  5500   \n",
       "6      nissan      gas    std   two      sedan   fwd      four  69  5200   \n",
       "7       dodge      gas    std   two  hatchback   fwd      four  68  5500   \n",
       "8    plymouth      gas    std   two  hatchback   fwd      four  68  5500   \n",
       "\n",
       "   MPG-CITY  MPG-HWY  PRICE  \n",
       "0        31       36   5118  \n",
       "1        47       53   5151  \n",
       "2        30       31   5195  \n",
       "3        35       39   5348  \n",
       "4        37       41   5389  \n",
       "5        38       42   5399  \n",
       "6        31       37   5499  \n",
       "7        37       41   5572  \n",
       "8        37       41   5572  "
      ]
     },
     "execution_count": 8,
     "metadata": {},
     "output_type": "execute_result"
    }
   ],
   "source": [
    "import pandas as pd\n",
    "\n",
    "draft1 = pd.read_csv('/Users/sudhanshukumar/Downloads/auto-data.csv')    # Supply the file name (path)\n",
    "draft1.head(9)                "
   ]
  },
  {
   "cell_type": "code",
   "execution_count": 11,
   "metadata": {},
   "outputs": [
    {
     "name": "stderr",
     "output_type": "stream",
     "text": [
      "/Users/sudhanshukumar/anaconda3/lib/python3.7/site-packages/pandas/io/excel.py:329: FutureWarning: The `sheetname` keyword is deprecated, use `sheet_name` instead\n",
      "  **kwds)\n"
     ]
    },
    {
     "data": {
      "text/html": [
       "<div>\n",
       "<style scoped>\n",
       "    .dataframe tbody tr th:only-of-type {\n",
       "        vertical-align: middle;\n",
       "    }\n",
       "\n",
       "    .dataframe tbody tr th {\n",
       "        vertical-align: top;\n",
       "    }\n",
       "\n",
       "    .dataframe thead th {\n",
       "        text-align: right;\n",
       "    }\n",
       "</style>\n",
       "<table border=\"1\" class=\"dataframe\">\n",
       "  <thead>\n",
       "    <tr style=\"text-align: right;\">\n",
       "      <th></th>\n",
       "      <th>Python</th>\n",
       "    </tr>\n",
       "  </thead>\n",
       "  <tbody>\n",
       "    <tr>\n",
       "      <th>0</th>\n",
       "      <td>Pandas</td>\n",
       "    </tr>\n",
       "    <tr>\n",
       "      <th>1</th>\n",
       "      <td>Series</td>\n",
       "    </tr>\n",
       "    <tr>\n",
       "      <th>2</th>\n",
       "      <td>Data frame</td>\n",
       "    </tr>\n",
       "    <tr>\n",
       "      <th>3</th>\n",
       "      <td>Panel</td>\n",
       "    </tr>\n",
       "    <tr>\n",
       "      <th>4</th>\n",
       "      <td>Python turtorial</td>\n",
       "    </tr>\n",
       "    <tr>\n",
       "      <th>5</th>\n",
       "      <td>https://docs.python.org/3/library/stdtypes.htm...</td>\n",
       "    </tr>\n",
       "    <tr>\n",
       "      <th>6</th>\n",
       "      <td>Pandas tutorial</td>\n",
       "    </tr>\n",
       "    <tr>\n",
       "      <th>7</th>\n",
       "      <td>https://pandas.pydata.org/pandas-docs/stable/v...</td>\n",
       "    </tr>\n",
       "    <tr>\n",
       "      <th>8</th>\n",
       "      <td>Scikit tutorial</td>\n",
       "    </tr>\n",
       "    <tr>\n",
       "      <th>9</th>\n",
       "      <td>http://scikit-learn.org/stable/tutorial/index....</td>\n",
       "    </tr>\n",
       "    <tr>\n",
       "      <th>10</th>\n",
       "      <td>http://scikit-learn.org/stable/user_guide.html</td>\n",
       "    </tr>\n",
       "    <tr>\n",
       "      <th>11</th>\n",
       "      <td>https://stackoverflow.com/questions/40464512/d...</td>\n",
       "    </tr>\n",
       "    <tr>\n",
       "      <th>12</th>\n",
       "      <td>For parent child mappping</td>\n",
       "    </tr>\n",
       "    <tr>\n",
       "      <th>13</th>\n",
       "      <td>Machine learning</td>\n",
       "    </tr>\n",
       "    <tr>\n",
       "      <th>14</th>\n",
       "      <td>https://deeplearning4j.org/generative-adversar...</td>\n",
       "    </tr>\n",
       "    <tr>\n",
       "      <th>15</th>\n",
       "      <td>https://skymind.ai/ai-infrastructure-mlops.html</td>\n",
       "    </tr>\n",
       "    <tr>\n",
       "      <th>16</th>\n",
       "      <td>Python udemy</td>\n",
       "    </tr>\n",
       "    <tr>\n",
       "      <th>17</th>\n",
       "      <td>https://github.com/Pierian-Data</td>\n",
       "    </tr>\n",
       "    <tr>\n",
       "      <th>18</th>\n",
       "      <td>https://www.analyticsvidhya.com/blog/2018/05/2...</td>\n",
       "    </tr>\n",
       "    <tr>\n",
       "      <th>19</th>\n",
       "      <td>for core python</td>\n",
       "    </tr>\n",
       "    <tr>\n",
       "      <th>20</th>\n",
       "      <td>https://www.programiz.com/python-programming/a...</td>\n",
       "    </tr>\n",
       "  </tbody>\n",
       "</table>\n",
       "</div>"
      ],
      "text/plain": [
       "                                               Python\n",
       "0                                              Pandas\n",
       "1                                              Series\n",
       "2                                          Data frame\n",
       "3                                               Panel\n",
       "4                                    Python turtorial\n",
       "5   https://docs.python.org/3/library/stdtypes.htm...\n",
       "6                                     Pandas tutorial\n",
       "7   https://pandas.pydata.org/pandas-docs/stable/v...\n",
       "8                                     Scikit tutorial\n",
       "9   http://scikit-learn.org/stable/tutorial/index....\n",
       "10     http://scikit-learn.org/stable/user_guide.html\n",
       "11  https://stackoverflow.com/questions/40464512/d...\n",
       "12                          For parent child mappping\n",
       "13                                   Machine learning\n",
       "14  https://deeplearning4j.org/generative-adversar...\n",
       "15    https://skymind.ai/ai-infrastructure-mlops.html\n",
       "16                                       Python udemy\n",
       "17                    https://github.com/Pierian-Data\n",
       "18  https://www.analyticsvidhya.com/blog/2018/05/2...\n",
       "19                                    for core python\n",
       "20  https://www.programiz.com/python-programming/a..."
      ]
     },
     "execution_count": 11,
     "metadata": {},
     "output_type": "execute_result"
    }
   ],
   "source": [
    "draft3 = pd.read_excel('/Users/sudhanshukumar/Downloads/mastersheet.xlsx',sheetname = 'python') # Name of sheet to read from\n",
    "\n",
    "draft3                         # Check the first 6 rows"
   ]
  },
  {
   "cell_type": "code",
   "execution_count": null,
   "metadata": {},
   "outputs": [],
   "source": [
    "draft4 = pd.read_excel('/Users/sudhanshukumar/Downloads/mastersheet.xlsx',sheetname = 'python')"
   ]
  },
  {
   "cell_type": "code",
   "execution_count": 13,
   "metadata": {},
   "outputs": [
    {
     "name": "stderr",
     "output_type": "stream",
     "text": [
      "/Users/sudhanshukumar/anaconda3/lib/python3.7/site-packages/ipykernel_launcher.py:5: DeprecationWarning: \n",
      ".ix is deprecated. Please use\n",
      ".loc for label based indexing or\n",
      ".iloc for positional indexing\n",
      "\n",
      "See the documentation here:\n",
      "http://pandas.pydata.org/pandas-docs/stable/indexing.html#ix-indexer-is-deprecated\n",
      "  \"\"\"\n"
     ]
    },
    {
     "data": {
      "text/html": [
       "<div>\n",
       "<style scoped>\n",
       "    .dataframe tbody tr th:only-of-type {\n",
       "        vertical-align: middle;\n",
       "    }\n",
       "\n",
       "    .dataframe tbody tr th {\n",
       "        vertical-align: top;\n",
       "    }\n",
       "\n",
       "    .dataframe thead th {\n",
       "        text-align: right;\n",
       "    }\n",
       "</style>\n",
       "<table border=\"1\" class=\"dataframe\">\n",
       "  <thead>\n",
       "    <tr style=\"text-align: right;\">\n",
       "      <th></th>\n",
       "      <th>Rk</th>\n",
       "      <th>Player</th>\n",
       "      <th>Pos</th>\n",
       "      <th>Age</th>\n",
       "      <th>Tm</th>\n",
       "      <th>G</th>\n",
       "      <th>GS</th>\n",
       "      <th>MP</th>\n",
       "      <th>FG</th>\n",
       "      <th>FGA</th>\n",
       "    </tr>\n",
       "  </thead>\n",
       "  <tbody>\n",
       "    <tr>\n",
       "      <th>0</th>\n",
       "      <td>1</td>\n",
       "      <td>Quincy Acy</td>\n",
       "      <td>PF</td>\n",
       "      <td>24</td>\n",
       "      <td>NYK</td>\n",
       "      <td>68</td>\n",
       "      <td>22</td>\n",
       "      <td>1287</td>\n",
       "      <td>152</td>\n",
       "      <td>331</td>\n",
       "    </tr>\n",
       "    <tr>\n",
       "      <th>1</th>\n",
       "      <td>2</td>\n",
       "      <td>Jordan Adams</td>\n",
       "      <td>SG</td>\n",
       "      <td>20</td>\n",
       "      <td>MEM</td>\n",
       "      <td>30</td>\n",
       "      <td>0</td>\n",
       "      <td>248</td>\n",
       "      <td>35</td>\n",
       "      <td>86</td>\n",
       "    </tr>\n",
       "    <tr>\n",
       "      <th>2</th>\n",
       "      <td>3</td>\n",
       "      <td>Steven Adams</td>\n",
       "      <td>C</td>\n",
       "      <td>21</td>\n",
       "      <td>OKC</td>\n",
       "      <td>70</td>\n",
       "      <td>67</td>\n",
       "      <td>1771</td>\n",
       "      <td>217</td>\n",
       "      <td>399</td>\n",
       "    </tr>\n",
       "    <tr>\n",
       "      <th>3</th>\n",
       "      <td>4</td>\n",
       "      <td>Jeff Adrien</td>\n",
       "      <td>PF</td>\n",
       "      <td>28</td>\n",
       "      <td>MIN</td>\n",
       "      <td>17</td>\n",
       "      <td>0</td>\n",
       "      <td>215</td>\n",
       "      <td>19</td>\n",
       "      <td>44</td>\n",
       "    </tr>\n",
       "    <tr>\n",
       "      <th>4</th>\n",
       "      <td>5</td>\n",
       "      <td>Arron Afflalo</td>\n",
       "      <td>SG</td>\n",
       "      <td>29</td>\n",
       "      <td>TOT</td>\n",
       "      <td>78</td>\n",
       "      <td>72</td>\n",
       "      <td>2502</td>\n",
       "      <td>375</td>\n",
       "      <td>884</td>\n",
       "    </tr>\n",
       "    <tr>\n",
       "      <th>5</th>\n",
       "      <td>5</td>\n",
       "      <td>Arron Afflalo</td>\n",
       "      <td>SG</td>\n",
       "      <td>29</td>\n",
       "      <td>DEN</td>\n",
       "      <td>53</td>\n",
       "      <td>53</td>\n",
       "      <td>1750</td>\n",
       "      <td>281</td>\n",
       "      <td>657</td>\n",
       "    </tr>\n",
       "    <tr>\n",
       "      <th>6</th>\n",
       "      <td>5</td>\n",
       "      <td>Arron Afflalo</td>\n",
       "      <td>SG</td>\n",
       "      <td>29</td>\n",
       "      <td>POR</td>\n",
       "      <td>25</td>\n",
       "      <td>19</td>\n",
       "      <td>752</td>\n",
       "      <td>94</td>\n",
       "      <td>227</td>\n",
       "    </tr>\n",
       "    <tr>\n",
       "      <th>7</th>\n",
       "      <td>6</td>\n",
       "      <td>Alexis Ajinca</td>\n",
       "      <td>C</td>\n",
       "      <td>26</td>\n",
       "      <td>NOP</td>\n",
       "      <td>68</td>\n",
       "      <td>8</td>\n",
       "      <td>957</td>\n",
       "      <td>181</td>\n",
       "      <td>329</td>\n",
       "    </tr>\n",
       "    <tr>\n",
       "      <th>8</th>\n",
       "      <td>7</td>\n",
       "      <td>Furkan Aldemir</td>\n",
       "      <td>PF</td>\n",
       "      <td>23</td>\n",
       "      <td>PHI</td>\n",
       "      <td>41</td>\n",
       "      <td>9</td>\n",
       "      <td>540</td>\n",
       "      <td>40</td>\n",
       "      <td>78</td>\n",
       "    </tr>\n",
       "    <tr>\n",
       "      <th>9</th>\n",
       "      <td>8</td>\n",
       "      <td>Cole Aldrich</td>\n",
       "      <td>C</td>\n",
       "      <td>26</td>\n",
       "      <td>NYK</td>\n",
       "      <td>61</td>\n",
       "      <td>16</td>\n",
       "      <td>976</td>\n",
       "      <td>144</td>\n",
       "      <td>301</td>\n",
       "    </tr>\n",
       "  </tbody>\n",
       "</table>\n",
       "</div>"
      ],
      "text/plain": [
       "  Rk          Player Pos Age   Tm   G  GS    MP   FG  FGA\n",
       "0  1      Quincy Acy  PF  24  NYK  68  22  1287  152  331\n",
       "1  2    Jordan Adams  SG  20  MEM  30   0   248   35   86\n",
       "2  3    Steven Adams   C  21  OKC  70  67  1771  217  399\n",
       "3  4     Jeff Adrien  PF  28  MIN  17   0   215   19   44\n",
       "4  5   Arron Afflalo  SG  29  TOT  78  72  2502  375  884\n",
       "5  5   Arron Afflalo  SG  29  DEN  53  53  1750  281  657\n",
       "6  5   Arron Afflalo  SG  29  POR  25  19   752   94  227\n",
       "7  6   Alexis Ajinca   C  26  NOP  68   8   957  181  329\n",
       "8  7  Furkan Aldemir  PF  23  PHI  41   9   540   40   78\n",
       "9  8    Cole Aldrich   C  26  NYK  61  16   976  144  301"
      ]
     },
     "execution_count": 13,
     "metadata": {},
     "output_type": "execute_result"
    }
   ],
   "source": [
    "url = \"http://www.basketball-reference.com/leagues/NBA_2015_totals.html\"\n",
    "\n",
    "BB_data = pd.read_html(url)         # Read data from the specified url\n",
    "\n",
    "BB_data[0].ix[:, 0:10].head(10) \n",
    "\n",
    "# Check 5 rows (10 columns only)"
   ]
  },
  {
   "cell_type": "code",
   "execution_count": 17,
   "metadata": {},
   "outputs": [],
   "source": [
    "#save data to \n",
    "draft1.to_csv(\"xyz.csv\") "
   ]
  },
  {
   "cell_type": "code",
   "execution_count": 1,
   "metadata": {},
   "outputs": [],
   "source": [
    "import numpy as np\n",
    "import pandas as pd\n",
    "import os\n",
    "import matplotlib.pyplot as plt\n",
    "%matplotlib inline"
   ]
  },
  {
   "cell_type": "code",
   "execution_count": 2,
   "metadata": {},
   "outputs": [],
   "source": [
    "titanic_train = pd.read_csv(\"https://gist.githubusercontent.com/michhar/2dfd2de0d4f8727f873422c5d959fff5/raw/ff414a1bcfcba32481e4d4e8db578e55872a2ca1/titanic.csv\",\n",
    "                           sep='\\t')   "
   ]
  },
  {
   "cell_type": "code",
   "execution_count": 3,
   "metadata": {},
   "outputs": [
    {
     "data": {
      "text/html": [
       "<div>\n",
       "<style scoped>\n",
       "    .dataframe tbody tr th:only-of-type {\n",
       "        vertical-align: middle;\n",
       "    }\n",
       "\n",
       "    .dataframe tbody tr th {\n",
       "        vertical-align: top;\n",
       "    }\n",
       "\n",
       "    .dataframe thead th {\n",
       "        text-align: right;\n",
       "    }\n",
       "</style>\n",
       "<table border=\"1\" class=\"dataframe\">\n",
       "  <thead>\n",
       "    <tr style=\"text-align: right;\">\n",
       "      <th></th>\n",
       "      <th>PassengerId</th>\n",
       "      <th>Survived</th>\n",
       "      <th>Pclass</th>\n",
       "      <th>Name</th>\n",
       "      <th>Sex</th>\n",
       "      <th>Age</th>\n",
       "      <th>SibSp</th>\n",
       "      <th>Parch</th>\n",
       "      <th>Ticket</th>\n",
       "      <th>Fare</th>\n",
       "      <th>Cabin</th>\n",
       "      <th>Embarked</th>\n",
       "    </tr>\n",
       "  </thead>\n",
       "  <tbody>\n",
       "    <tr>\n",
       "      <th>0</th>\n",
       "      <td>1</td>\n",
       "      <td>0</td>\n",
       "      <td>3</td>\n",
       "      <td>Braund, Mr. Owen Harris</td>\n",
       "      <td>male</td>\n",
       "      <td>22.0</td>\n",
       "      <td>1</td>\n",
       "      <td>0</td>\n",
       "      <td>A/5 21171</td>\n",
       "      <td>7.2500</td>\n",
       "      <td>NaN</td>\n",
       "      <td>S</td>\n",
       "    </tr>\n",
       "    <tr>\n",
       "      <th>1</th>\n",
       "      <td>2</td>\n",
       "      <td>1</td>\n",
       "      <td>1</td>\n",
       "      <td>Cumings, Mrs. John Bradley (Florence Briggs Th...</td>\n",
       "      <td>female</td>\n",
       "      <td>38.0</td>\n",
       "      <td>1</td>\n",
       "      <td>0</td>\n",
       "      <td>PC 17599</td>\n",
       "      <td>71.2833</td>\n",
       "      <td>C85</td>\n",
       "      <td>C</td>\n",
       "    </tr>\n",
       "    <tr>\n",
       "      <th>2</th>\n",
       "      <td>3</td>\n",
       "      <td>1</td>\n",
       "      <td>3</td>\n",
       "      <td>Heikkinen, Miss. Laina</td>\n",
       "      <td>female</td>\n",
       "      <td>26.0</td>\n",
       "      <td>0</td>\n",
       "      <td>0</td>\n",
       "      <td>STON/O2. 3101282</td>\n",
       "      <td>7.9250</td>\n",
       "      <td>NaN</td>\n",
       "      <td>S</td>\n",
       "    </tr>\n",
       "    <tr>\n",
       "      <th>3</th>\n",
       "      <td>4</td>\n",
       "      <td>1</td>\n",
       "      <td>1</td>\n",
       "      <td>Futrelle, Mrs. Jacques Heath (Lily May Peel)</td>\n",
       "      <td>female</td>\n",
       "      <td>35.0</td>\n",
       "      <td>1</td>\n",
       "      <td>0</td>\n",
       "      <td>113803</td>\n",
       "      <td>53.1000</td>\n",
       "      <td>C123</td>\n",
       "      <td>S</td>\n",
       "    </tr>\n",
       "    <tr>\n",
       "      <th>4</th>\n",
       "      <td>5</td>\n",
       "      <td>0</td>\n",
       "      <td>3</td>\n",
       "      <td>Allen, Mr. William Henry</td>\n",
       "      <td>male</td>\n",
       "      <td>35.0</td>\n",
       "      <td>0</td>\n",
       "      <td>0</td>\n",
       "      <td>373450</td>\n",
       "      <td>8.0500</td>\n",
       "      <td>NaN</td>\n",
       "      <td>S</td>\n",
       "    </tr>\n",
       "  </tbody>\n",
       "</table>\n",
       "</div>"
      ],
      "text/plain": [
       "   PassengerId  Survived  Pclass  \\\n",
       "0            1         0       3   \n",
       "1            2         1       1   \n",
       "2            3         1       3   \n",
       "3            4         1       1   \n",
       "4            5         0       3   \n",
       "\n",
       "                                                Name     Sex   Age  SibSp  \\\n",
       "0                            Braund, Mr. Owen Harris    male  22.0      1   \n",
       "1  Cumings, Mrs. John Bradley (Florence Briggs Th...  female  38.0      1   \n",
       "2                             Heikkinen, Miss. Laina  female  26.0      0   \n",
       "3       Futrelle, Mrs. Jacques Heath (Lily May Peel)  female  35.0      1   \n",
       "4                           Allen, Mr. William Henry    male  35.0      0   \n",
       "\n",
       "   Parch            Ticket     Fare Cabin Embarked  \n",
       "0      0         A/5 21171   7.2500   NaN        S  \n",
       "1      0          PC 17599  71.2833   C85        C  \n",
       "2      0  STON/O2. 3101282   7.9250   NaN        S  \n",
       "3      0            113803  53.1000  C123        S  \n",
       "4      0            373450   8.0500   NaN        S  "
      ]
     },
     "execution_count": 3,
     "metadata": {},
     "output_type": "execute_result"
    }
   ],
   "source": [
    "titanic_train.head()"
   ]
  },
  {
   "cell_type": "code",
   "execution_count": 4,
   "metadata": {},
   "outputs": [
    {
     "data": {
      "text/plain": [
       "Index(['PassengerId', 'Survived', 'Pclass', 'Name', 'Sex', 'Age', 'SibSp',\n",
       "       'Parch', 'Ticket', 'Fare', 'Cabin', 'Embarked'],\n",
       "      dtype='object')"
      ]
     },
     "execution_count": 4,
     "metadata": {},
     "output_type": "execute_result"
    }
   ],
   "source": [
    "titanic_train.columns"
   ]
  },
  {
   "cell_type": "code",
   "execution_count": 5,
   "metadata": {},
   "outputs": [
    {
     "data": {
      "text/html": [
       "<div>\n",
       "<style scoped>\n",
       "    .dataframe tbody tr th:only-of-type {\n",
       "        vertical-align: middle;\n",
       "    }\n",
       "\n",
       "    .dataframe tbody tr th {\n",
       "        vertical-align: top;\n",
       "    }\n",
       "\n",
       "    .dataframe thead th {\n",
       "        text-align: right;\n",
       "    }\n",
       "</style>\n",
       "<table border=\"1\" class=\"dataframe\">\n",
       "  <thead>\n",
       "    <tr style=\"text-align: right;\">\n",
       "      <th></th>\n",
       "      <th>Pclass</th>\n",
       "      <th>Fare</th>\n",
       "      <th>Survived</th>\n",
       "    </tr>\n",
       "  </thead>\n",
       "  <tbody>\n",
       "    <tr>\n",
       "      <th>0</th>\n",
       "      <td>3</td>\n",
       "      <td>7.2500</td>\n",
       "      <td>0</td>\n",
       "    </tr>\n",
       "    <tr>\n",
       "      <th>1</th>\n",
       "      <td>1</td>\n",
       "      <td>71.2833</td>\n",
       "      <td>1</td>\n",
       "    </tr>\n",
       "    <tr>\n",
       "      <th>2</th>\n",
       "      <td>3</td>\n",
       "      <td>7.9250</td>\n",
       "      <td>1</td>\n",
       "    </tr>\n",
       "    <tr>\n",
       "      <th>3</th>\n",
       "      <td>1</td>\n",
       "      <td>53.1000</td>\n",
       "      <td>1</td>\n",
       "    </tr>\n",
       "    <tr>\n",
       "      <th>4</th>\n",
       "      <td>3</td>\n",
       "      <td>8.0500</td>\n",
       "      <td>0</td>\n",
       "    </tr>\n",
       "    <tr>\n",
       "      <th>5</th>\n",
       "      <td>3</td>\n",
       "      <td>8.4583</td>\n",
       "      <td>0</td>\n",
       "    </tr>\n",
       "    <tr>\n",
       "      <th>6</th>\n",
       "      <td>1</td>\n",
       "      <td>51.8625</td>\n",
       "      <td>0</td>\n",
       "    </tr>\n",
       "    <tr>\n",
       "      <th>7</th>\n",
       "      <td>3</td>\n",
       "      <td>21.0750</td>\n",
       "      <td>0</td>\n",
       "    </tr>\n",
       "  </tbody>\n",
       "</table>\n",
       "</div>"
      ],
      "text/plain": [
       "   Pclass     Fare  Survived\n",
       "0       3   7.2500         0\n",
       "1       1  71.2833         1\n",
       "2       3   7.9250         1\n",
       "3       1  53.1000         1\n",
       "4       3   8.0500         0\n",
       "5       3   8.4583         0\n",
       "6       1  51.8625         0\n",
       "7       3  21.0750         0"
      ]
     },
     "execution_count": 5,
     "metadata": {},
     "output_type": "execute_result"
    }
   ],
   "source": [
    "l =['Pclass','Fare','Survived']\n",
    "titanic_train[l].head(8)"
   ]
  },
  {
   "cell_type": "code",
   "execution_count": 6,
   "metadata": {
    "scrolled": true
   },
   "outputs": [
    {
     "data": {
      "text/html": [
       "<div>\n",
       "<style scoped>\n",
       "    .dataframe tbody tr th:only-of-type {\n",
       "        vertical-align: middle;\n",
       "    }\n",
       "\n",
       "    .dataframe tbody tr th {\n",
       "        vertical-align: top;\n",
       "    }\n",
       "\n",
       "    .dataframe thead th {\n",
       "        text-align: right;\n",
       "    }\n",
       "</style>\n",
       "<table border=\"1\" class=\"dataframe\">\n",
       "  <thead>\n",
       "    <tr style=\"text-align: right;\">\n",
       "      <th></th>\n",
       "      <th>PassengerId</th>\n",
       "      <th>Survived</th>\n",
       "      <th>Pclass</th>\n",
       "      <th>Age</th>\n",
       "      <th>SibSp</th>\n",
       "      <th>Parch</th>\n",
       "      <th>Fare</th>\n",
       "    </tr>\n",
       "  </thead>\n",
       "  <tbody>\n",
       "    <tr>\n",
       "      <th>count</th>\n",
       "      <td>156.000000</td>\n",
       "      <td>156.000000</td>\n",
       "      <td>156.000000</td>\n",
       "      <td>126.000000</td>\n",
       "      <td>156.000000</td>\n",
       "      <td>156.000000</td>\n",
       "      <td>156.000000</td>\n",
       "    </tr>\n",
       "    <tr>\n",
       "      <th>mean</th>\n",
       "      <td>78.500000</td>\n",
       "      <td>0.346154</td>\n",
       "      <td>2.423077</td>\n",
       "      <td>28.141508</td>\n",
       "      <td>0.615385</td>\n",
       "      <td>0.397436</td>\n",
       "      <td>28.109587</td>\n",
       "    </tr>\n",
       "    <tr>\n",
       "      <th>std</th>\n",
       "      <td>45.177428</td>\n",
       "      <td>0.477275</td>\n",
       "      <td>0.795459</td>\n",
       "      <td>14.613880</td>\n",
       "      <td>1.056235</td>\n",
       "      <td>0.870146</td>\n",
       "      <td>39.401047</td>\n",
       "    </tr>\n",
       "    <tr>\n",
       "      <th>min</th>\n",
       "      <td>1.000000</td>\n",
       "      <td>0.000000</td>\n",
       "      <td>1.000000</td>\n",
       "      <td>0.830000</td>\n",
       "      <td>0.000000</td>\n",
       "      <td>0.000000</td>\n",
       "      <td>6.750000</td>\n",
       "    </tr>\n",
       "    <tr>\n",
       "      <th>25%</th>\n",
       "      <td>39.750000</td>\n",
       "      <td>0.000000</td>\n",
       "      <td>2.000000</td>\n",
       "      <td>19.000000</td>\n",
       "      <td>0.000000</td>\n",
       "      <td>0.000000</td>\n",
       "      <td>8.003150</td>\n",
       "    </tr>\n",
       "    <tr>\n",
       "      <th>50%</th>\n",
       "      <td>78.500000</td>\n",
       "      <td>0.000000</td>\n",
       "      <td>3.000000</td>\n",
       "      <td>26.000000</td>\n",
       "      <td>0.000000</td>\n",
       "      <td>0.000000</td>\n",
       "      <td>14.454200</td>\n",
       "    </tr>\n",
       "    <tr>\n",
       "      <th>75%</th>\n",
       "      <td>117.250000</td>\n",
       "      <td>1.000000</td>\n",
       "      <td>3.000000</td>\n",
       "      <td>35.000000</td>\n",
       "      <td>1.000000</td>\n",
       "      <td>0.000000</td>\n",
       "      <td>30.371850</td>\n",
       "    </tr>\n",
       "    <tr>\n",
       "      <th>max</th>\n",
       "      <td>156.000000</td>\n",
       "      <td>1.000000</td>\n",
       "      <td>3.000000</td>\n",
       "      <td>71.000000</td>\n",
       "      <td>5.000000</td>\n",
       "      <td>5.000000</td>\n",
       "      <td>263.000000</td>\n",
       "    </tr>\n",
       "  </tbody>\n",
       "</table>\n",
       "</div>"
      ],
      "text/plain": [
       "       PassengerId    Survived      Pclass         Age       SibSp  \\\n",
       "count   156.000000  156.000000  156.000000  126.000000  156.000000   \n",
       "mean     78.500000    0.346154    2.423077   28.141508    0.615385   \n",
       "std      45.177428    0.477275    0.795459   14.613880    1.056235   \n",
       "min       1.000000    0.000000    1.000000    0.830000    0.000000   \n",
       "25%      39.750000    0.000000    2.000000   19.000000    0.000000   \n",
       "50%      78.500000    0.000000    3.000000   26.000000    0.000000   \n",
       "75%     117.250000    1.000000    3.000000   35.000000    1.000000   \n",
       "max     156.000000    1.000000    3.000000   71.000000    5.000000   \n",
       "\n",
       "            Parch        Fare  \n",
       "count  156.000000  156.000000  \n",
       "mean     0.397436   28.109587  \n",
       "std      0.870146   39.401047  \n",
       "min      0.000000    6.750000  \n",
       "25%      0.000000    8.003150  \n",
       "50%      0.000000   14.454200  \n",
       "75%      0.000000   30.371850  \n",
       "max      5.000000  263.000000  "
      ]
     },
     "execution_count": 6,
     "metadata": {},
     "output_type": "execute_result"
    }
   ],
   "source": [
    "titanic_train.describe()"
   ]
  },
  {
   "cell_type": "code",
   "execution_count": 7,
   "metadata": {},
   "outputs": [
    {
     "name": "stdout",
     "output_type": "stream",
     "text": [
      "Index(['Name', 'Sex', 'Ticket', 'Cabin', 'Embarked'], dtype='object')\n"
     ]
    },
    {
     "data": {
      "text/html": [
       "<div>\n",
       "<style scoped>\n",
       "    .dataframe tbody tr th:only-of-type {\n",
       "        vertical-align: middle;\n",
       "    }\n",
       "\n",
       "    .dataframe tbody tr th {\n",
       "        vertical-align: top;\n",
       "    }\n",
       "\n",
       "    .dataframe thead th {\n",
       "        text-align: right;\n",
       "    }\n",
       "</style>\n",
       "<table border=\"1\" class=\"dataframe\">\n",
       "  <thead>\n",
       "    <tr style=\"text-align: right;\">\n",
       "      <th></th>\n",
       "      <th>Name</th>\n",
       "      <th>Sex</th>\n",
       "      <th>Ticket</th>\n",
       "      <th>Cabin</th>\n",
       "      <th>Embarked</th>\n",
       "    </tr>\n",
       "  </thead>\n",
       "  <tbody>\n",
       "    <tr>\n",
       "      <th>0</th>\n",
       "      <td>Braund, Mr. Owen Harris</td>\n",
       "      <td>male</td>\n",
       "      <td>A/5 21171</td>\n",
       "      <td>NaN</td>\n",
       "      <td>S</td>\n",
       "    </tr>\n",
       "    <tr>\n",
       "      <th>1</th>\n",
       "      <td>Cumings, Mrs. John Bradley (Florence Briggs Th...</td>\n",
       "      <td>female</td>\n",
       "      <td>PC 17599</td>\n",
       "      <td>C85</td>\n",
       "      <td>C</td>\n",
       "    </tr>\n",
       "    <tr>\n",
       "      <th>2</th>\n",
       "      <td>Heikkinen, Miss. Laina</td>\n",
       "      <td>female</td>\n",
       "      <td>STON/O2. 3101282</td>\n",
       "      <td>NaN</td>\n",
       "      <td>S</td>\n",
       "    </tr>\n",
       "    <tr>\n",
       "      <th>3</th>\n",
       "      <td>Futrelle, Mrs. Jacques Heath (Lily May Peel)</td>\n",
       "      <td>female</td>\n",
       "      <td>113803</td>\n",
       "      <td>C123</td>\n",
       "      <td>S</td>\n",
       "    </tr>\n",
       "    <tr>\n",
       "      <th>4</th>\n",
       "      <td>Allen, Mr. William Henry</td>\n",
       "      <td>male</td>\n",
       "      <td>373450</td>\n",
       "      <td>NaN</td>\n",
       "      <td>S</td>\n",
       "    </tr>\n",
       "  </tbody>\n",
       "</table>\n",
       "</div>"
      ],
      "text/plain": [
       "                                                Name     Sex  \\\n",
       "0                            Braund, Mr. Owen Harris    male   \n",
       "1  Cumings, Mrs. John Bradley (Florence Briggs Th...  female   \n",
       "2                             Heikkinen, Miss. Laina  female   \n",
       "3       Futrelle, Mrs. Jacques Heath (Lily May Peel)  female   \n",
       "4                           Allen, Mr. William Henry    male   \n",
       "\n",
       "             Ticket Cabin Embarked  \n",
       "0         A/5 21171   NaN        S  \n",
       "1          PC 17599   C85        C  \n",
       "2  STON/O2. 3101282   NaN        S  \n",
       "3            113803  C123        S  \n",
       "4            373450   NaN        S  "
      ]
     },
     "execution_count": 7,
     "metadata": {},
     "output_type": "execute_result"
    }
   ],
   "source": [
    "categorical = titanic_train.dtypes[titanic_train.dtypes == \"object\"].index\n",
    "print(categorical)\n",
    "\n",
    "titanic_train[categorical].head()"
   ]
  },
  {
   "cell_type": "code",
   "execution_count": 8,
   "metadata": {},
   "outputs": [
    {
     "data": {
      "text/html": [
       "<div>\n",
       "<style scoped>\n",
       "    .dataframe tbody tr th:only-of-type {\n",
       "        vertical-align: middle;\n",
       "    }\n",
       "\n",
       "    .dataframe tbody tr th {\n",
       "        vertical-align: top;\n",
       "    }\n",
       "\n",
       "    .dataframe thead th {\n",
       "        text-align: right;\n",
       "    }\n",
       "</style>\n",
       "<table border=\"1\" class=\"dataframe\">\n",
       "  <thead>\n",
       "    <tr style=\"text-align: right;\">\n",
       "      <th></th>\n",
       "      <th>Survived</th>\n",
       "      <th>Pclass</th>\n",
       "      <th>Name</th>\n",
       "      <th>Sex</th>\n",
       "      <th>Age</th>\n",
       "      <th>SibSp</th>\n",
       "      <th>Parch</th>\n",
       "      <th>Ticket</th>\n",
       "      <th>Fare</th>\n",
       "      <th>Cabin</th>\n",
       "      <th>Embarked</th>\n",
       "    </tr>\n",
       "  </thead>\n",
       "  <tbody>\n",
       "    <tr>\n",
       "      <th>0</th>\n",
       "      <td>0</td>\n",
       "      <td>3</td>\n",
       "      <td>Braund, Mr. Owen Harris</td>\n",
       "      <td>male</td>\n",
       "      <td>22.0</td>\n",
       "      <td>1</td>\n",
       "      <td>0</td>\n",
       "      <td>A/5 21171</td>\n",
       "      <td>7.2500</td>\n",
       "      <td>NaN</td>\n",
       "      <td>S</td>\n",
       "    </tr>\n",
       "    <tr>\n",
       "      <th>1</th>\n",
       "      <td>1</td>\n",
       "      <td>1</td>\n",
       "      <td>Cumings, Mrs. John Bradley (Florence Briggs Th...</td>\n",
       "      <td>female</td>\n",
       "      <td>38.0</td>\n",
       "      <td>1</td>\n",
       "      <td>0</td>\n",
       "      <td>PC 17599</td>\n",
       "      <td>71.2833</td>\n",
       "      <td>C85</td>\n",
       "      <td>C</td>\n",
       "    </tr>\n",
       "    <tr>\n",
       "      <th>2</th>\n",
       "      <td>1</td>\n",
       "      <td>3</td>\n",
       "      <td>Heikkinen, Miss. Laina</td>\n",
       "      <td>female</td>\n",
       "      <td>26.0</td>\n",
       "      <td>0</td>\n",
       "      <td>0</td>\n",
       "      <td>STON/O2. 3101282</td>\n",
       "      <td>7.9250</td>\n",
       "      <td>NaN</td>\n",
       "      <td>S</td>\n",
       "    </tr>\n",
       "    <tr>\n",
       "      <th>3</th>\n",
       "      <td>1</td>\n",
       "      <td>1</td>\n",
       "      <td>Futrelle, Mrs. Jacques Heath (Lily May Peel)</td>\n",
       "      <td>female</td>\n",
       "      <td>35.0</td>\n",
       "      <td>1</td>\n",
       "      <td>0</td>\n",
       "      <td>113803</td>\n",
       "      <td>53.1000</td>\n",
       "      <td>C123</td>\n",
       "      <td>S</td>\n",
       "    </tr>\n",
       "    <tr>\n",
       "      <th>4</th>\n",
       "      <td>0</td>\n",
       "      <td>3</td>\n",
       "      <td>Allen, Mr. William Henry</td>\n",
       "      <td>male</td>\n",
       "      <td>35.0</td>\n",
       "      <td>0</td>\n",
       "      <td>0</td>\n",
       "      <td>373450</td>\n",
       "      <td>8.0500</td>\n",
       "      <td>NaN</td>\n",
       "      <td>S</td>\n",
       "    </tr>\n",
       "  </tbody>\n",
       "</table>\n",
       "</div>"
      ],
      "text/plain": [
       "   Survived  Pclass                                               Name  \\\n",
       "0         0       3                            Braund, Mr. Owen Harris   \n",
       "1         1       1  Cumings, Mrs. John Bradley (Florence Briggs Th...   \n",
       "2         1       3                             Heikkinen, Miss. Laina   \n",
       "3         1       1       Futrelle, Mrs. Jacques Heath (Lily May Peel)   \n",
       "4         0       3                           Allen, Mr. William Henry   \n",
       "\n",
       "      Sex   Age  SibSp  Parch            Ticket     Fare Cabin Embarked  \n",
       "0    male  22.0      1      0         A/5 21171   7.2500   NaN        S  \n",
       "1  female  38.0      1      0          PC 17599  71.2833   C85        C  \n",
       "2  female  26.0      0      0  STON/O2. 3101282   7.9250   NaN        S  \n",
       "3  female  35.0      1      0            113803  53.1000  C123        S  \n",
       "4    male  35.0      0      0            373450   8.0500   NaN        S  "
      ]
     },
     "execution_count": 8,
     "metadata": {},
     "output_type": "execute_result"
    }
   ],
   "source": [
    "del titanic_train[\"PassengerId\"]  \n",
    "\n",
    "titanic_train.head()\n",
    "# Remove PassengerId"
   ]
  },
  {
   "cell_type": "code",
   "execution_count": 9,
   "metadata": {},
   "outputs": [
    {
     "data": {
      "text/plain": [
       "['Andersson, Mr. August Edvard (\"Wennerstrom\")',\n",
       " 'Andreasson, Mr. Paul Edvin',\n",
       " 'Andrew, Mr. Edgardo Samuel',\n",
       " 'Arnold-Franchi, Mrs. Josef (Josefine Franchi)',\n",
       " 'Asplund, Mrs. Carl Oscar (Selma Augusta Emilia Johansson)',\n",
       " 'Attalah, Miss. Malake',\n",
       " 'Backstrom, Mrs. Karl Alfred (Maria Mathilda Gustafsson)',\n",
       " 'Barton, Mr. David John',\n",
       " 'Bateman, Rev. Robert James',\n",
       " 'Baxter, Mr. Quigg Edmond']"
      ]
     },
     "execution_count": 9,
     "metadata": {},
     "output_type": "execute_result"
    }
   ],
   "source": [
    "sorted(titanic_train[\"Name\"])[5:15]  # Check the first 15 sorted names"
   ]
  },
  {
   "cell_type": "code",
   "execution_count": 10,
   "metadata": {},
   "outputs": [
    {
     "data": {
      "text/plain": [
       "count                        156\n",
       "unique                       156\n",
       "top       Barton, Mr. David John\n",
       "freq                           1\n",
       "Name: Name, dtype: object"
      ]
     },
     "execution_count": 10,
     "metadata": {},
     "output_type": "execute_result"
    }
   ],
   "source": [
    "titanic_train[\"Name\"].describe()"
   ]
  },
  {
   "cell_type": "code",
   "execution_count": 11,
   "metadata": {},
   "outputs": [
    {
     "data": {
      "text/plain": [
       "0            A/5 21171\n",
       "1             PC 17599\n",
       "2     STON/O2. 3101282\n",
       "3               113803\n",
       "4               373450\n",
       "5               330877\n",
       "6                17463\n",
       "7               349909\n",
       "8               347742\n",
       "9               237736\n",
       "10             PP 9549\n",
       "11              113783\n",
       "12           A/5. 2151\n",
       "13              347082\n",
       "14              350406\n",
       "Name: Ticket, dtype: object"
      ]
     },
     "execution_count": 11,
     "metadata": {},
     "output_type": "execute_result"
    }
   ],
   "source": [
    "titanic_train[\"Ticket\"][0:15]       # Check the first 15 tickets"
   ]
  },
  {
   "cell_type": "code",
   "execution_count": 12,
   "metadata": {},
   "outputs": [
    {
     "data": {
      "text/plain": [
       "count        156\n",
       "unique       145\n",
       "top       113803\n",
       "freq           2\n",
       "Name: Ticket, dtype: object"
      ]
     },
     "execution_count": 12,
     "metadata": {},
     "output_type": "execute_result"
    }
   ],
   "source": [
    "titanic_train[\"Ticket\"].describe()"
   ]
  },
  {
   "cell_type": "code",
   "execution_count": 13,
   "metadata": {},
   "outputs": [],
   "source": [
    "del titanic_train[\"Ticket\"]        # Remove Ticket"
   ]
  },
  {
   "cell_type": "code",
   "execution_count": 14,
   "metadata": {},
   "outputs": [
    {
     "data": {
      "text/plain": [
       "0      NaN\n",
       "1      C85\n",
       "2      NaN\n",
       "3     C123\n",
       "4      NaN\n",
       "5      NaN\n",
       "6      E46\n",
       "7      NaN\n",
       "8      NaN\n",
       "9      NaN\n",
       "10      G6\n",
       "11    C103\n",
       "12     NaN\n",
       "13     NaN\n",
       "14     NaN\n",
       "Name: Cabin, dtype: object"
      ]
     },
     "execution_count": 14,
     "metadata": {},
     "output_type": "execute_result"
    }
   ],
   "source": [
    "titanic_train[\"Cabin\"][0:15]       # Check the first 15 tickets"
   ]
  },
  {
   "cell_type": "code",
   "execution_count": 15,
   "metadata": {},
   "outputs": [
    {
     "data": {
      "text/plain": [
       "count              31\n",
       "unique             28\n",
       "top       C23 C25 C27\n",
       "freq                2\n",
       "Name: Cabin, dtype: object"
      ]
     },
     "execution_count": 15,
     "metadata": {},
     "output_type": "execute_result"
    }
   ],
   "source": [
    "titanic_train[\"Cabin\"].describe()  # Check number of unique cabins"
   ]
  },
  {
   "cell_type": "code",
   "execution_count": 16,
   "metadata": {},
   "outputs": [
    {
     "data": {
      "text/plain": [
       "[0, 1, 1, 1, 0, ..., 1, 0, 0, 0, 0]\n",
       "Length: 156\n",
       "Categories (2, int64): [0, 1]"
      ]
     },
     "execution_count": 16,
     "metadata": {},
     "output_type": "execute_result"
    }
   ],
   "source": [
    "new_survived = pd.Categorical(titanic_train[\"Survived\"])\n",
    "#new_survived = new_survived.rename_categories([5,9])              \n",
    "\n",
    "new_survived"
   ]
  },
  {
   "cell_type": "code",
   "execution_count": 17,
   "metadata": {},
   "outputs": [
    {
     "data": {
      "text/plain": [
       "0      0\n",
       "1      1\n",
       "2      1\n",
       "3      1\n",
       "4      0\n",
       "5      0\n",
       "6      0\n",
       "7      0\n",
       "8      1\n",
       "9      1\n",
       "10     1\n",
       "11     1\n",
       "12     0\n",
       "13     0\n",
       "14     0\n",
       "15     1\n",
       "16     0\n",
       "17     1\n",
       "18     0\n",
       "19     1\n",
       "20     0\n",
       "21     1\n",
       "22     1\n",
       "23     1\n",
       "24     0\n",
       "25     1\n",
       "26     0\n",
       "27     0\n",
       "28     1\n",
       "29     0\n",
       "      ..\n",
       "126    0\n",
       "127    1\n",
       "128    1\n",
       "129    0\n",
       "130    0\n",
       "131    0\n",
       "132    0\n",
       "133    1\n",
       "134    0\n",
       "135    0\n",
       "136    1\n",
       "137    0\n",
       "138    0\n",
       "139    0\n",
       "140    0\n",
       "141    1\n",
       "142    1\n",
       "143    0\n",
       "144    0\n",
       "145    0\n",
       "146    1\n",
       "147    0\n",
       "148    0\n",
       "149    0\n",
       "150    0\n",
       "151    1\n",
       "152    0\n",
       "153    0\n",
       "154    0\n",
       "155    0\n",
       "Name: Survived, Length: 156, dtype: int64"
      ]
     },
     "execution_count": 17,
     "metadata": {},
     "output_type": "execute_result"
    }
   ],
   "source": [
    "titanic_train[\"Survived\"]"
   ]
  },
  {
   "cell_type": "code",
   "execution_count": 18,
   "metadata": {},
   "outputs": [
    {
     "data": {
      "text/plain": [
       "Index(['Survived', 'Pclass', 'Name', 'Sex', 'Age', 'SibSp', 'Parch', 'Fare',\n",
       "       'Cabin', 'Embarked'],\n",
       "      dtype='object')"
      ]
     },
     "execution_count": 18,
     "metadata": {},
     "output_type": "execute_result"
    }
   ],
   "source": [
    "titanic_train.columns"
   ]
  },
  {
   "cell_type": "code",
   "execution_count": 19,
   "metadata": {},
   "outputs": [
    {
     "data": {
      "text/plain": [
       "0      3\n",
       "1      1\n",
       "2      3\n",
       "3      1\n",
       "4      3\n",
       "5      3\n",
       "6      1\n",
       "7      3\n",
       "8      3\n",
       "9      2\n",
       "10     3\n",
       "11     1\n",
       "12     3\n",
       "13     3\n",
       "14     3\n",
       "15     2\n",
       "16     3\n",
       "17     2\n",
       "18     3\n",
       "19     3\n",
       "20     2\n",
       "21     2\n",
       "22     3\n",
       "23     1\n",
       "24     3\n",
       "25     3\n",
       "26     3\n",
       "27     1\n",
       "28     3\n",
       "29     3\n",
       "      ..\n",
       "126    3\n",
       "127    3\n",
       "128    3\n",
       "129    3\n",
       "130    3\n",
       "131    3\n",
       "132    3\n",
       "133    2\n",
       "134    2\n",
       "135    2\n",
       "136    1\n",
       "137    1\n",
       "138    3\n",
       "139    1\n",
       "140    3\n",
       "141    3\n",
       "142    3\n",
       "143    3\n",
       "144    2\n",
       "145    2\n",
       "146    3\n",
       "147    3\n",
       "148    2\n",
       "149    2\n",
       "150    2\n",
       "151    1\n",
       "152    3\n",
       "153    3\n",
       "154    3\n",
       "155    1\n",
       "Name: Pclass, Length: 156, dtype: int64"
      ]
     },
     "execution_count": 19,
     "metadata": {},
     "output_type": "execute_result"
    }
   ],
   "source": [
    "titanic_train['Pclass']"
   ]
  },
  {
   "cell_type": "code",
   "execution_count": 20,
   "metadata": {},
   "outputs": [
    {
     "data": {
      "text/plain": [
       "[Class1, Class3, Class1, Class3, Class1, ..., Class3, Class1, Class1, Class1, Class3]\n",
       "Length: 156\n",
       "Categories (3, object): [Class3, Class2, Class1]"
      ]
     },
     "execution_count": 20,
     "metadata": {},
     "output_type": "execute_result"
    }
   ],
   "source": [
    "new_Pclass = pd.Categorical(titanic_train[\"Pclass\"])\n",
    "\n",
    "new_Pclass = new_Pclass.rename_categories([\"Class3\",\"Class2\",\"Class1\"])     \n",
    "\n",
    "new_Pclass"
   ]
  },
  {
   "cell_type": "code",
   "execution_count": 21,
   "metadata": {},
   "outputs": [
    {
     "data": {
      "text/plain": [
       "Survived      int64\n",
       "Pclass        int64\n",
       "Name         object\n",
       "Sex          object\n",
       "Age         float64\n",
       "SibSp         int64\n",
       "Parch         int64\n",
       "Fare        float64\n",
       "Cabin        object\n",
       "Embarked     object\n",
       "dtype: object"
      ]
     },
     "execution_count": 21,
     "metadata": {},
     "output_type": "execute_result"
    }
   ],
   "source": [
    "titanic_train.dtypes\n"
   ]
  },
  {
   "cell_type": "code",
   "execution_count": 22,
   "metadata": {},
   "outputs": [
    {
     "data": {
      "text/plain": [
       "array([nan, 'C85', 'C123', 'E46', 'G6', 'C103', 'D56', 'A6',\n",
       "       'C23 C25 C27', 'B78', 'D33', 'B30', 'C52', 'B28', 'C83', 'F33',\n",
       "       'F G73', 'E31', 'A5', 'D10 D12', 'D26', 'C110', 'B58 B60', 'E101',\n",
       "       'F E69', 'D47', 'B86', 'F2', 'C2'], dtype=object)"
      ]
     },
     "execution_count": 22,
     "metadata": {},
     "output_type": "execute_result"
    }
   ],
   "source": [
    "titanic_train[\"Cabin\"].unique()   # Check unique cabins"
   ]
  },
  {
   "cell_type": "code",
   "execution_count": 23,
   "metadata": {},
   "outputs": [
    {
     "data": {
      "text/plain": [
       "0              NaN\n",
       "1              C85\n",
       "2              NaN\n",
       "3             C123\n",
       "4              NaN\n",
       "5              NaN\n",
       "6              E46\n",
       "7              NaN\n",
       "8              NaN\n",
       "9              NaN\n",
       "10              G6\n",
       "11            C103\n",
       "12             NaN\n",
       "13             NaN\n",
       "14             NaN\n",
       "15             NaN\n",
       "16             NaN\n",
       "17             NaN\n",
       "18             NaN\n",
       "19             NaN\n",
       "20             NaN\n",
       "21             D56\n",
       "22             NaN\n",
       "23              A6\n",
       "24             NaN\n",
       "25             NaN\n",
       "26             NaN\n",
       "27     C23 C25 C27\n",
       "28             NaN\n",
       "29             NaN\n",
       "          ...     \n",
       "126            NaN\n",
       "127            NaN\n",
       "128          F E69\n",
       "129            NaN\n",
       "130            NaN\n",
       "131            NaN\n",
       "132            NaN\n",
       "133            NaN\n",
       "134            NaN\n",
       "135            NaN\n",
       "136            D47\n",
       "137           C123\n",
       "138            NaN\n",
       "139            B86\n",
       "140            NaN\n",
       "141            NaN\n",
       "142            NaN\n",
       "143            NaN\n",
       "144            NaN\n",
       "145            NaN\n",
       "146            NaN\n",
       "147            NaN\n",
       "148             F2\n",
       "149            NaN\n",
       "150            NaN\n",
       "151             C2\n",
       "152            NaN\n",
       "153            NaN\n",
       "154            NaN\n",
       "155            NaN\n",
       "Name: Cabin, Length: 156, dtype: object"
      ]
     },
     "execution_count": 23,
     "metadata": {},
     "output_type": "execute_result"
    }
   ],
   "source": [
    "char_cabin = titanic_train[\"Cabin\"].astype(str) # Convert data to str\n",
    "\n",
    "new_Cabin = np.array([cabin[0] for cabin in char_cabin]) # Take first letter\n",
    "\n",
    "new_Cabin = pd.Categorical(new_Cabin)\n",
    "\n",
    "titanic_train[\"Cabin\"] "
   ]
  },
  {
   "cell_type": "code",
   "execution_count": 24,
   "metadata": {},
   "outputs": [
    {
     "data": {
      "text/plain": [
       "0      n\n",
       "1      C\n",
       "2      n\n",
       "3      C\n",
       "4      n\n",
       "5      n\n",
       "6      E\n",
       "7      n\n",
       "8      n\n",
       "9      n\n",
       "10     G\n",
       "11     C\n",
       "12     n\n",
       "13     n\n",
       "14     n\n",
       "15     n\n",
       "16     n\n",
       "17     n\n",
       "18     n\n",
       "19     n\n",
       "20     n\n",
       "21     D\n",
       "22     n\n",
       "23     A\n",
       "24     n\n",
       "25     n\n",
       "26     n\n",
       "27     C\n",
       "28     n\n",
       "29     n\n",
       "      ..\n",
       "126    n\n",
       "127    n\n",
       "128    F\n",
       "129    n\n",
       "130    n\n",
       "131    n\n",
       "132    n\n",
       "133    n\n",
       "134    n\n",
       "135    n\n",
       "136    D\n",
       "137    C\n",
       "138    n\n",
       "139    B\n",
       "140    n\n",
       "141    n\n",
       "142    n\n",
       "143    n\n",
       "144    n\n",
       "145    n\n",
       "146    n\n",
       "147    n\n",
       "148    F\n",
       "149    n\n",
       "150    n\n",
       "151    C\n",
       "152    n\n",
       "153    n\n",
       "154    n\n",
       "155    n\n",
       "Name: Cabin, Length: 156, dtype: category\n",
       "Categories (8, object): [A, B, C, D, E, F, G, n]"
      ]
     },
     "execution_count": 24,
     "metadata": {},
     "output_type": "execute_result"
    }
   ],
   "source": [
    "titanic_train[\"Cabin\"] = new_Cabin\n",
    "titanic_train[\"Cabin\"] "
   ]
  },
  {
   "cell_type": "code",
   "execution_count": 25,
   "metadata": {},
   "outputs": [
    {
     "data": {
      "text/plain": [
       "0    False\n",
       "1     True\n",
       "2    False\n",
       "3     True\n",
       "4    False\n",
       "5    False\n",
       "dtype: bool"
      ]
     },
     "execution_count": 25,
     "metadata": {},
     "output_type": "execute_result"
    }
   ],
   "source": [
    "dummy_vector = pd.Series([1,None,3,None,7,8])\n",
    "\n",
    "dummy_vector.isnull()\n"
   ]
  },
  {
   "cell_type": "code",
   "execution_count": 26,
   "metadata": {},
   "outputs": [
    {
     "data": {
      "text/plain": [
       "5"
      ]
     },
     "execution_count": 26,
     "metadata": {},
     "output_type": "execute_result"
    }
   ],
   "source": [
    "missing = np.where(titanic_train[\"Age\"].isnull() == True)\n",
    "missing[0][0]"
   ]
  },
  {
   "cell_type": "code",
   "execution_count": null,
   "metadata": {},
   "outputs": [],
   "source": []
  },
  {
   "cell_type": "code",
   "execution_count": null,
   "metadata": {},
   "outputs": [],
   "source": []
  },
  {
   "cell_type": "code",
   "execution_count": 33,
   "metadata": {},
   "outputs": [
    {
     "data": {
      "text/plain": [
       "0      False\n",
       "1      False\n",
       "2      False\n",
       "3      False\n",
       "4      False\n",
       "5      False\n",
       "6      False\n",
       "7      False\n",
       "8      False\n",
       "9      False\n",
       "10     False\n",
       "11     False\n",
       "12     False\n",
       "13     False\n",
       "14     False\n",
       "15     False\n",
       "16     False\n",
       "17     False\n",
       "18     False\n",
       "19     False\n",
       "20     False\n",
       "21     False\n",
       "22     False\n",
       "23     False\n",
       "24     False\n",
       "25     False\n",
       "26     False\n",
       "27      True\n",
       "28     False\n",
       "29     False\n",
       "       ...  \n",
       "126    False\n",
       "127    False\n",
       "128    False\n",
       "129    False\n",
       "130    False\n",
       "131    False\n",
       "132    False\n",
       "133    False\n",
       "134    False\n",
       "135    False\n",
       "136    False\n",
       "137    False\n",
       "138    False\n",
       "139    False\n",
       "140    False\n",
       "141    False\n",
       "142    False\n",
       "143    False\n",
       "144    False\n",
       "145    False\n",
       "146    False\n",
       "147    False\n",
       "148    False\n",
       "149    False\n",
       "150    False\n",
       "151    False\n",
       "152    False\n",
       "153    False\n",
       "154    False\n",
       "155    False\n",
       "Name: Fare, Length: 156, dtype: bool"
      ]
     },
     "execution_count": 33,
     "metadata": {},
     "output_type": "execute_result"
    }
   ],
   "source": [
    "titanic_train[\"Fare\"]==max(titanic_train[\"Fare\"])"
   ]
  },
  {
   "cell_type": "code",
   "execution_count": null,
   "metadata": {},
   "outputs": [],
   "source": []
  },
  {
   "cell_type": "code",
   "execution_count": 34,
   "metadata": {},
   "outputs": [
    {
     "data": {
      "text/plain": [
       "30"
      ]
     },
     "execution_count": 34,
     "metadata": {},
     "output_type": "execute_result"
    }
   ],
   "source": [
    "len(missing[0])"
   ]
  },
  {
   "cell_type": "code",
   "execution_count": 35,
   "metadata": {},
   "outputs": [
    {
     "data": {
      "text/html": [
       "<div>\n",
       "<style scoped>\n",
       "    .dataframe tbody tr th:only-of-type {\n",
       "        vertical-align: middle;\n",
       "    }\n",
       "\n",
       "    .dataframe tbody tr th {\n",
       "        vertical-align: top;\n",
       "    }\n",
       "\n",
       "    .dataframe thead th {\n",
       "        text-align: right;\n",
       "    }\n",
       "</style>\n",
       "<table border=\"1\" class=\"dataframe\">\n",
       "  <thead>\n",
       "    <tr style=\"text-align: right;\">\n",
       "      <th></th>\n",
       "      <th>Survived</th>\n",
       "      <th>Pclass</th>\n",
       "      <th>Name</th>\n",
       "      <th>Sex</th>\n",
       "      <th>Age</th>\n",
       "      <th>SibSp</th>\n",
       "      <th>Parch</th>\n",
       "      <th>Fare</th>\n",
       "      <th>Cabin</th>\n",
       "      <th>Embarked</th>\n",
       "    </tr>\n",
       "  </thead>\n",
       "  <tbody>\n",
       "    <tr>\n",
       "      <th>1</th>\n",
       "      <td>1</td>\n",
       "      <td>1</td>\n",
       "      <td>Cumings, Mrs. John Bradley (Florence Briggs Th...</td>\n",
       "      <td>female</td>\n",
       "      <td>38.0</td>\n",
       "      <td>1</td>\n",
       "      <td>0</td>\n",
       "      <td>71.2833</td>\n",
       "      <td>C</td>\n",
       "      <td>C</td>\n",
       "    </tr>\n",
       "    <tr>\n",
       "      <th>8</th>\n",
       "      <td>1</td>\n",
       "      <td>3</td>\n",
       "      <td>Johnson, Mrs. Oscar W (Elisabeth Vilhelmina Berg)</td>\n",
       "      <td>female</td>\n",
       "      <td>27.0</td>\n",
       "      <td>0</td>\n",
       "      <td>2</td>\n",
       "      <td>11.1333</td>\n",
       "      <td>n</td>\n",
       "      <td>S</td>\n",
       "    </tr>\n",
       "    <tr>\n",
       "      <th>10</th>\n",
       "      <td>1</td>\n",
       "      <td>3</td>\n",
       "      <td>Sandstrom, Miss. Marguerite Rut</td>\n",
       "      <td>female</td>\n",
       "      <td>4.0</td>\n",
       "      <td>1</td>\n",
       "      <td>1</td>\n",
       "      <td>16.7000</td>\n",
       "      <td>G</td>\n",
       "      <td>S</td>\n",
       "    </tr>\n",
       "    <tr>\n",
       "      <th>11</th>\n",
       "      <td>1</td>\n",
       "      <td>1</td>\n",
       "      <td>Bonnell, Miss. Elizabeth</td>\n",
       "      <td>female</td>\n",
       "      <td>58.0</td>\n",
       "      <td>0</td>\n",
       "      <td>0</td>\n",
       "      <td>26.5500</td>\n",
       "      <td>C</td>\n",
       "      <td>S</td>\n",
       "    </tr>\n",
       "  </tbody>\n",
       "</table>\n",
       "</div>"
      ],
      "text/plain": [
       "    Survived  Pclass                                               Name  \\\n",
       "1          1       1  Cumings, Mrs. John Bradley (Florence Briggs Th...   \n",
       "8          1       3  Johnson, Mrs. Oscar W (Elisabeth Vilhelmina Berg)   \n",
       "10         1       3                    Sandstrom, Miss. Marguerite Rut   \n",
       "11         1       1                           Bonnell, Miss. Elizabeth   \n",
       "\n",
       "       Sex   Age  SibSp  Parch     Fare Cabin Embarked  \n",
       "1   female  38.0      1      0  71.2833     C        C  \n",
       "8   female  27.0      0      2  11.1333     n        S  \n",
       "10  female   4.0      1      1  16.7000     G        S  \n",
       "11  female  58.0      0      0  26.5500     C        S  "
      ]
     },
     "execution_count": 35,
     "metadata": {},
     "output_type": "execute_result"
    }
   ],
   "source": [
    "index = np.where(titanic_train[\"Fare\"] == max(titanic_train[\"Fare\"]) )\n",
    "index\n",
    "titanic_train.loc[index]\n",
    "titanic_train.loc[[1,8,10,11]]"
   ]
  },
  {
   "cell_type": "code",
   "execution_count": 30,
   "metadata": {},
   "outputs": [
    {
     "name": "stderr",
     "output_type": "stream",
     "text": [
      "/Users/sudhanshukumar/anaconda3/lib/python3.7/site-packages/ipykernel_launcher.py:5: DeprecationWarning: \n",
      ".ix is deprecated. Please use\n",
      ".loc for label based indexing or\n",
      ".iloc for positional indexing\n",
      "\n",
      "See the documentation here:\n",
      "http://pandas.pydata.org/pandas-docs/stable/indexing.html#ix-indexer-is-deprecated\n",
      "  \"\"\"\n"
     ]
    },
    {
     "data": {
      "text/html": [
       "<div>\n",
       "<style scoped>\n",
       "    .dataframe tbody tr th:only-of-type {\n",
       "        vertical-align: middle;\n",
       "    }\n",
       "\n",
       "    .dataframe tbody tr th {\n",
       "        vertical-align: top;\n",
       "    }\n",
       "\n",
       "    .dataframe thead th {\n",
       "        text-align: right;\n",
       "    }\n",
       "</style>\n",
       "<table border=\"1\" class=\"dataframe\">\n",
       "  <thead>\n",
       "    <tr style=\"text-align: right;\">\n",
       "      <th></th>\n",
       "      <th>Survived</th>\n",
       "      <th>Pclass</th>\n",
       "      <th>Name</th>\n",
       "      <th>Sex</th>\n",
       "      <th>Age</th>\n",
       "      <th>SibSp</th>\n",
       "      <th>Parch</th>\n",
       "      <th>Fare</th>\n",
       "      <th>Cabin</th>\n",
       "      <th>Embarked</th>\n",
       "      <th>Family</th>\n",
       "    </tr>\n",
       "  </thead>\n",
       "  <tbody>\n",
       "    <tr>\n",
       "      <th>59</th>\n",
       "      <td>0</td>\n",
       "      <td>3</td>\n",
       "      <td>Goodwin, Master. William Frederick</td>\n",
       "      <td>male</td>\n",
       "      <td>11.0</td>\n",
       "      <td>5</td>\n",
       "      <td>2</td>\n",
       "      <td>46.9</td>\n",
       "      <td>n</td>\n",
       "      <td>S</td>\n",
       "      <td>7</td>\n",
       "    </tr>\n",
       "    <tr>\n",
       "      <th>71</th>\n",
       "      <td>0</td>\n",
       "      <td>3</td>\n",
       "      <td>Goodwin, Miss. Lillian Amy</td>\n",
       "      <td>female</td>\n",
       "      <td>16.0</td>\n",
       "      <td>5</td>\n",
       "      <td>2</td>\n",
       "      <td>46.9</td>\n",
       "      <td>n</td>\n",
       "      <td>S</td>\n",
       "      <td>7</td>\n",
       "    </tr>\n",
       "  </tbody>\n",
       "</table>\n",
       "</div>"
      ],
      "text/plain": [
       "    Survived  Pclass                                Name     Sex   Age  SibSp  \\\n",
       "59         0       3  Goodwin, Master. William Frederick    male  11.0      5   \n",
       "71         0       3          Goodwin, Miss. Lillian Amy  female  16.0      5   \n",
       "\n",
       "    Parch  Fare Cabin Embarked  Family  \n",
       "59      2  46.9     n        S       7  \n",
       "71      2  46.9     n        S       7  "
      ]
     },
     "execution_count": 30,
     "metadata": {},
     "output_type": "execute_result"
    }
   ],
   "source": [
    "titanic_train[\"Family\"] = titanic_train[\"SibSp\"] + titanic_train[\"Parch\"]\n",
    "\n",
    "most_family = np.where(titanic_train[\"Family\"] == max(titanic_train[\"Family\"]))\n",
    "\n",
    "titanic_train.ix[most_family]"
   ]
  },
  {
   "cell_type": "code",
   "execution_count": 39,
   "metadata": {},
   "outputs": [
    {
     "name": "stdout",
     "output_type": "stream",
     "text": [
      "Labels: ['a', 'b', 'c']\n",
      "My data: [10, 20, 30]\n",
      "Dictionary: {'a': 10, 'b': 20, 'c': 30}\n"
     ]
    }
   ],
   "source": [
    "import numpy as np\n",
    "import pandas as pd\n",
    "\n",
    "labels = ['a','b','c']\n",
    "my_data = [10,20,30]\n",
    "arr = np.array(my_data)\n",
    "d = {'a':10,'b':20,'c':30}\n",
    "\n",
    "print (\"Labels:\", labels)\n",
    "print(\"My data:\", my_data)\n",
    "print(\"Dictionary:\", d)"
   ]
  },
  {
   "cell_type": "code",
   "execution_count": 40,
   "metadata": {},
   "outputs": [
    {
     "data": {
      "text/plain": [
       "a    10\n",
       "b    20\n",
       "c    30\n",
       "dtype: int64"
      ]
     },
     "execution_count": 40,
     "metadata": {},
     "output_type": "execute_result"
    }
   ],
   "source": [
    "pd.Series(my_data, index=labels) "
   ]
  },
  {
   "cell_type": "code",
   "execution_count": 41,
   "metadata": {},
   "outputs": [
    {
     "name": "stdout",
     "output_type": "stream",
     "text": [
      "\n",
      "Holding numerical data\n",
      "-------------------------\n",
      "0    10\n",
      "1    20\n",
      "2    30\n",
      "dtype: int64\n"
     ]
    }
   ],
   "source": [
    "print (\"\\nHolding numerical data\\n\",'-'*25, sep='')\n",
    "print(pd.Series(arr))\n"
   ]
  },
  {
   "cell_type": "code",
   "execution_count": 42,
   "metadata": {},
   "outputs": [
    {
     "name": "stdout",
     "output_type": "stream",
     "text": [
      "\n",
      "Holding text labels\n",
      "--------------------\n",
      "0    a\n",
      "1    b\n",
      "2    c\n",
      "dtype: object\n"
     ]
    }
   ],
   "source": [
    "print (\"\\nHolding text labels\\n\",'-'*20, sep='')\n",
    "print(pd.Series(labels))\n"
   ]
  },
  {
   "cell_type": "code",
   "execution_count": 45,
   "metadata": {},
   "outputs": [
    {
     "data": {
      "text/plain": [
       "<function dict.values>"
      ]
     },
     "execution_count": 45,
     "metadata": {},
     "output_type": "execute_result"
    }
   ],
   "source": [
    "\n",
    "d = {'a':10,'b':20,'c':30}\n",
    "d.keys\n",
    "d.items\n",
    "d.values\n"
   ]
  },
  {
   "cell_type": "code",
   "execution_count": 42,
   "metadata": {},
   "outputs": [
    {
     "name": "stdout",
     "output_type": "stream",
     "text": [
      "\n",
      "Holding objects from a dictionary\n",
      "----------------------------------------\n",
      "0    <built-in method keys of dict object at 0x1242...\n",
      "1    <built-in method items of dict object at 0x124...\n",
      "2    <built-in method values of dict object at 0x12...\n",
      "dtype: object\n"
     ]
    }
   ],
   "source": [
    "print (\"\\nHolding objects from a dictionary\\n\",'-'*40, sep='')\n",
    "print(pd.Series([d.keys, d.items, d.values]))"
   ]
  },
  {
   "cell_type": "code",
   "execution_count": 43,
   "metadata": {},
   "outputs": [
    {
     "data": {
      "text/plain": [
       "CA    1\n",
       "OR    2\n",
       "CO    3\n",
       "AZ    4\n",
       "dtype: int64"
      ]
     },
     "execution_count": 43,
     "metadata": {},
     "output_type": "execute_result"
    }
   ],
   "source": [
    "ser1 = pd.Series([1,2,3,4],['CA', 'OR', 'CO', 'AZ'])\n",
    "ser2 = pd.Series([1,2,5,4],['CA', 'OR', 'NV', 'AZ'])\n",
    "ser1"
   ]
  },
  {
   "cell_type": "code",
   "execution_count": 44,
   "metadata": {},
   "outputs": [
    {
     "name": "stdout",
     "output_type": "stream",
     "text": [
      "\n",
      "Indexing by name of the item/object (string identifier)\n",
      "--------------------------------------------------------\n",
      "Value for CA in ser1: 4\n",
      "Value for AZ in ser1: 4\n",
      "Value for NV in ser2: 5\n"
     ]
    }
   ],
   "source": [
    "print (\"\\nIndexing by name of the item/object (string identifier)\\n\",'-'*56, sep='')\n",
    "print(\"Value for CA in ser1:\", ser1[3])\n",
    "print(\"Value for AZ in ser1:\", ser1['AZ'])\n",
    "print(\"Value for NV in ser2:\", ser2['NV'])\n"
   ]
  },
  {
   "cell_type": "code",
   "execution_count": 45,
   "metadata": {},
   "outputs": [
    {
     "name": "stdout",
     "output_type": "stream",
     "text": [
      "\n",
      "Indexing by number (positional value in the series)\n",
      "----------------------------------------------------\n",
      "Value for CA in ser1: 1\n",
      "Value for AZ in ser1: 4\n",
      "Value for NV in ser2: 5\n"
     ]
    },
    {
     "data": {
      "text/plain": [
       "CA    1\n",
       "OR    2\n",
       "CO    3\n",
       "AZ    4\n",
       "dtype: int64"
      ]
     },
     "execution_count": 45,
     "metadata": {},
     "output_type": "execute_result"
    }
   ],
   "source": [
    "print (\"\\nIndexing by number (positional value in the series)\\n\",'-'*52, sep='')\n",
    "print(\"Value for CA in ser1:\", ser1[0])\n",
    "print(\"Value for AZ in ser1:\", ser1[3])\n",
    "print(\"Value for NV in ser2:\", ser2[2])\n",
    "ser1"
   ]
  },
  {
   "cell_type": "code",
   "execution_count": 46,
   "metadata": {},
   "outputs": [
    {
     "name": "stdout",
     "output_type": "stream",
     "text": [
      "\n",
      "Indexing by a range\n",
      "-------------------------\n",
      "Value for OR, CO, and AZ in ser1:\n",
      "OR    2\n",
      "CO    3\n",
      "dtype: int64\n"
     ]
    }
   ],
   "source": [
    "print (\"\\nIndexing by a range\\n\",'-'*25, sep='')\n",
    "print (\"Value for OR, CO, and AZ in ser1:\\n\", ser1[1:3], sep='')"
   ]
  },
  {
   "cell_type": "code",
   "execution_count": 47,
   "metadata": {},
   "outputs": [],
   "source": [
    "ser1 = pd.Series([1,2,3,4],['CA', 'OR', 'CO', 'AZ'])\n",
    "ser2 = pd.Series([1,2,5,4],['CA', 'OR', 'NV', 'AZ'])\n",
    "ser3 = ser1+ser2\n"
   ]
  },
  {
   "cell_type": "code",
   "execution_count": 48,
   "metadata": {},
   "outputs": [
    {
     "name": "stdout",
     "output_type": "stream",
     "text": [
      "\n",
      "After adding the two series, the result looks like this...\n",
      "-----------------------------------------------------------\n",
      "AZ    8.0\n",
      "CA    2.0\n",
      "CO    NaN\n",
      "NV    NaN\n",
      "OR    4.0\n",
      "dtype: float64\n",
      "\n",
      "Python tries to add values where it finds common index name, and puts NaN where indices are missing\n",
      "\n"
     ]
    }
   ],
   "source": [
    "print (\"\\nAfter adding the two series, the result looks like this...\\n\",'-'*59, sep='')\n",
    "print(ser3)\n",
    "print(\"\\nPython tries to add values where it finds common index name, and puts NaN where indices are missing\\n\")\n"
   ]
  },
  {
   "cell_type": "code",
   "execution_count": 49,
   "metadata": {},
   "outputs": [
    {
     "name": "stdout",
     "output_type": "stream",
     "text": [
      "\n",
      "The idea works even for multiplication...\n",
      "-------------------------------------------\n",
      "AZ    16.0\n",
      "CA     1.0\n",
      "CO     NaN\n",
      "NV     NaN\n",
      "OR     4.0\n",
      "dtype: float64\n"
     ]
    }
   ],
   "source": [
    "print (\"\\nThe idea works even for multiplication...\\n\",'-'*43, sep='')\n",
    "print (ser1*ser2)\n"
   ]
  },
  {
   "cell_type": "code",
   "execution_count": 50,
   "metadata": {},
   "outputs": [
    {
     "name": "stdout",
     "output_type": "stream",
     "text": [
      "\n",
      "Or even for combination of mathematical operations!\n",
      "-----------------------------------------------------\n",
      "AZ    55.200210\n",
      "CA     2.718282\n",
      "CO          NaN\n",
      "NV          NaN\n",
      "OR     7.690086\n",
      "dtype: float64\n"
     ]
    }
   ],
   "source": [
    "print (\"\\nOr even for combination of mathematical operations!\\n\",'-'*53, sep='')\n",
    "print (np.exp(ser1)+np.log10(ser2))"
   ]
  },
  {
   "cell_type": "code",
   "execution_count": 51,
   "metadata": {},
   "outputs": [
    {
     "name": "stdout",
     "output_type": "stream",
     "text": [
      "          W         X         Y         Z\n",
      "A  1.001906  0.943370 -0.258402  0.676482\n",
      "B -0.634947 -0.732321  0.520497  0.236402\n",
      "C -0.777249  0.165330 -0.265424 -2.183972\n",
      "D  0.396964 -0.158034 -0.217739  0.426768\n",
      "E  0.045613 -1.196055  0.456499  0.284715\n"
     ]
    },
    {
     "data": {
      "text/html": [
       "<div>\n",
       "<style scoped>\n",
       "    .dataframe tbody tr th:only-of-type {\n",
       "        vertical-align: middle;\n",
       "    }\n",
       "\n",
       "    .dataframe tbody tr th {\n",
       "        vertical-align: top;\n",
       "    }\n",
       "\n",
       "    .dataframe thead th {\n",
       "        text-align: right;\n",
       "    }\n",
       "</style>\n",
       "<table border=\"1\" class=\"dataframe\">\n",
       "  <thead>\n",
       "    <tr style=\"text-align: right;\">\n",
       "      <th></th>\n",
       "      <th>W</th>\n",
       "      <th>X</th>\n",
       "      <th>Y</th>\n",
       "      <th>Z</th>\n",
       "    </tr>\n",
       "  </thead>\n",
       "  <tbody>\n",
       "    <tr>\n",
       "      <th>D</th>\n",
       "      <td>0.396964</td>\n",
       "      <td>-0.158034</td>\n",
       "      <td>-0.217739</td>\n",
       "      <td>0.426768</td>\n",
       "    </tr>\n",
       "    <tr>\n",
       "      <th>A</th>\n",
       "      <td>1.001906</td>\n",
       "      <td>0.943370</td>\n",
       "      <td>-0.258402</td>\n",
       "      <td>0.676482</td>\n",
       "    </tr>\n",
       "  </tbody>\n",
       "</table>\n",
       "</div>"
      ],
      "text/plain": [
       "          W         X         Y         Z\n",
       "D  0.396964 -0.158034 -0.217739  0.426768\n",
       "A  1.001906  0.943370 -0.258402  0.676482"
      ]
     },
     "execution_count": 51,
     "metadata": {},
     "output_type": "execute_result"
    }
   ],
   "source": [
    "from numpy.random import randn as rn\n",
    "#np.random.seed(101)\n",
    "matrix_data = rn(5,4)\n",
    "row_labels = ['A','B','C','D','E']\n",
    "column_headings = ['W','X','Y','Z']\n",
    "\n",
    "df = pd.DataFrame(data=matrix_data, index=row_labels, columns=column_headings)\n",
    "#print(\"\\nThe data frame looks like\\n\",'-'*45, sep='')\n",
    "print(df)\n",
    "df.loc[[\"D\",\"A\"]]"
   ]
  },
  {
   "cell_type": "code",
   "execution_count": 52,
   "metadata": {},
   "outputs": [
    {
     "name": "stdout",
     "output_type": "stream",
     "text": [
      "\n",
      "The 'X' column\n",
      "-------------------------\n",
      "A    0.943370\n",
      "B   -0.732321\n",
      "C    0.165330\n",
      "D   -0.158034\n",
      "E   -1.196055\n",
      "Name: X, dtype: float64\n"
     ]
    }
   ],
   "source": [
    "print(\"\\nThe 'X' column\\n\",'-'*25, sep='')\n",
    "print(df['X'])"
   ]
  },
  {
   "cell_type": "code",
   "execution_count": 53,
   "metadata": {},
   "outputs": [
    {
     "name": "stdout",
     "output_type": "stream",
     "text": [
      "\n",
      "Type of the column: <class 'pandas.core.series.Series'>\n",
      "\n",
      "The 'X' and 'Z' columns indexed by passing a list\n",
      "-------------------------------------------------------\n",
      "          X         Z\n",
      "A  0.943370  0.676482\n",
      "B -0.732321  0.236402\n",
      "C  0.165330 -2.183972\n",
      "D -0.158034  0.426768\n",
      "E -1.196055  0.284715\n"
     ]
    }
   ],
   "source": [
    "print(\"\\nType of the column: \", type(df['X']), sep='')\n",
    "print(\"\\nThe 'X' and 'Z' columns indexed by passing a list\\n\",'-'*55, sep='')\n",
    "print(df[['X','Z']])"
   ]
  },
  {
   "cell_type": "code",
   "execution_count": 54,
   "metadata": {},
   "outputs": [
    {
     "name": "stdout",
     "output_type": "stream",
     "text": [
      "\n",
      "Type of the pair of columns: <class 'pandas.core.frame.DataFrame'>\n",
      "\n",
      "So, for more than one column, the object turns into a DataFrame\n"
     ]
    }
   ],
   "source": [
    "print(\"\\nType of the pair of columns: \", type(df[['X','Z']]), sep='')\n",
    "print (\"\\nSo, for more than one column, the object turns into a DataFrame\")"
   ]
  },
  {
   "cell_type": "code",
   "execution_count": 55,
   "metadata": {},
   "outputs": [
    {
     "name": "stdout",
     "output_type": "stream",
     "text": [
      "\n",
      "The 'X' column accessed by DOT method (NOT recommended)\n",
      "-------------------------------------------------------\n",
      "A    0.943370\n",
      "B   -0.732321\n",
      "C    0.165330\n",
      "D   -0.158034\n",
      "E   -1.196055\n",
      "Name: X, dtype: float64\n"
     ]
    }
   ],
   "source": [
    "print(\"\\nThe 'X' column accessed by DOT method (NOT recommended)\\n\",'-'*55, sep='')\n",
    "print(df[\"X\"])"
   ]
  },
  {
   "cell_type": "code",
   "execution_count": 56,
   "metadata": {},
   "outputs": [
    {
     "name": "stdout",
     "output_type": "stream",
     "text": [
      "\n",
      "A column is created by assigning it in relation to an existing column\n",
      "---------------------------------------------------------------------------\n",
      "          W         X         Y         Z       New  New (Sum of X and Z)\n",
      "A  1.001906  0.943370 -0.258402  0.676482  1.619852              1.619852\n",
      "B -0.634947 -0.732321  0.520497  0.236402 -0.495919             -0.495919\n",
      "C -0.777249  0.165330 -0.265424 -2.183972 -2.018642             -2.018642\n",
      "D  0.396964 -0.158034 -0.217739  0.426768  0.268733              0.268733\n",
      "E  0.045613 -1.196055  0.456499  0.284715 -0.911340             -0.911340\n"
     ]
    }
   ],
   "source": [
    "print(\"\\nA column is created by assigning it in relation to an existing column\\n\",'-'*75, sep='')\n",
    "df['New'] = df['X']+df['Z']\n",
    "df['New (Sum of X and Z)'] = df['X']+df['Z']\n",
    "print(df)\n"
   ]
  },
  {
   "cell_type": "code",
   "execution_count": 57,
   "metadata": {},
   "outputs": [
    {
     "name": "stdout",
     "output_type": "stream",
     "text": [
      "\n",
      "A column is dropped by using df.drop() method\n",
      "-------------------------------------------------------\n"
     ]
    }
   ],
   "source": [
    "print(\"\\nA column is dropped by using df.drop() method\\n\",'-'*55, sep='')\n",
    "df.drop('A',inplace=True) # Notice the axis=1 option, axis = 0 is default, so one has to change it to 1\n",
    "\n"
   ]
  },
  {
   "cell_type": "code",
   "execution_count": 58,
   "metadata": {},
   "outputs": [
    {
     "data": {
      "text/html": [
       "<div>\n",
       "<style scoped>\n",
       "    .dataframe tbody tr th:only-of-type {\n",
       "        vertical-align: middle;\n",
       "    }\n",
       "\n",
       "    .dataframe tbody tr th {\n",
       "        vertical-align: top;\n",
       "    }\n",
       "\n",
       "    .dataframe thead th {\n",
       "        text-align: right;\n",
       "    }\n",
       "</style>\n",
       "<table border=\"1\" class=\"dataframe\">\n",
       "  <thead>\n",
       "    <tr style=\"text-align: right;\">\n",
       "      <th></th>\n",
       "      <th>W</th>\n",
       "      <th>X</th>\n",
       "      <th>Y</th>\n",
       "      <th>Z</th>\n",
       "      <th>New</th>\n",
       "      <th>New (Sum of X and Z)</th>\n",
       "    </tr>\n",
       "  </thead>\n",
       "  <tbody>\n",
       "    <tr>\n",
       "      <th>B</th>\n",
       "      <td>-0.634947</td>\n",
       "      <td>-0.732321</td>\n",
       "      <td>0.520497</td>\n",
       "      <td>0.236402</td>\n",
       "      <td>-0.495919</td>\n",
       "      <td>-0.495919</td>\n",
       "    </tr>\n",
       "    <tr>\n",
       "      <th>C</th>\n",
       "      <td>-0.777249</td>\n",
       "      <td>0.165330</td>\n",
       "      <td>-0.265424</td>\n",
       "      <td>-2.183972</td>\n",
       "      <td>-2.018642</td>\n",
       "      <td>-2.018642</td>\n",
       "    </tr>\n",
       "    <tr>\n",
       "      <th>D</th>\n",
       "      <td>0.396964</td>\n",
       "      <td>-0.158034</td>\n",
       "      <td>-0.217739</td>\n",
       "      <td>0.426768</td>\n",
       "      <td>0.268733</td>\n",
       "      <td>0.268733</td>\n",
       "    </tr>\n",
       "    <tr>\n",
       "      <th>E</th>\n",
       "      <td>0.045613</td>\n",
       "      <td>-1.196055</td>\n",
       "      <td>0.456499</td>\n",
       "      <td>0.284715</td>\n",
       "      <td>-0.911340</td>\n",
       "      <td>-0.911340</td>\n",
       "    </tr>\n",
       "  </tbody>\n",
       "</table>\n",
       "</div>"
      ],
      "text/plain": [
       "          W         X         Y         Z       New  New (Sum of X and Z)\n",
       "B -0.634947 -0.732321  0.520497  0.236402 -0.495919             -0.495919\n",
       "C -0.777249  0.165330 -0.265424 -2.183972 -2.018642             -2.018642\n",
       "D  0.396964 -0.158034 -0.217739  0.426768  0.268733              0.268733\n",
       "E  0.045613 -1.196055  0.456499  0.284715 -0.911340             -0.911340"
      ]
     },
     "execution_count": 58,
     "metadata": {},
     "output_type": "execute_result"
    }
   ],
   "source": [
    "df"
   ]
  },
  {
   "cell_type": "code",
   "execution_count": 59,
   "metadata": {},
   "outputs": [
    {
     "ename": "KeyError",
     "evalue": "\"['A'] not found in axis\"",
     "output_type": "error",
     "traceback": [
      "\u001b[0;31m---------------------------------------------------------------------------\u001b[0m",
      "\u001b[0;31mKeyError\u001b[0m                                  Traceback (most recent call last)",
      "\u001b[0;32m<ipython-input-59-866d2ce47bab>\u001b[0m in \u001b[0;36m<module>\u001b[0;34m\u001b[0m\n\u001b[0;32m----> 1\u001b[0;31m \u001b[0mdf1\u001b[0m\u001b[0;34m=\u001b[0m\u001b[0mdf\u001b[0m\u001b[0;34m.\u001b[0m\u001b[0mdrop\u001b[0m\u001b[0;34m(\u001b[0m\u001b[0;34m'A'\u001b[0m\u001b[0;34m)\u001b[0m\u001b[0;34m\u001b[0m\u001b[0;34m\u001b[0m\u001b[0m\n\u001b[0m\u001b[1;32m      2\u001b[0m \u001b[0mprint\u001b[0m\u001b[0;34m(\u001b[0m\u001b[0;34m\"\\nA row (index) is dropped by using df.drop() method and axis=0\\n\"\u001b[0m\u001b[0;34m,\u001b[0m\u001b[0;34m'-'\u001b[0m\u001b[0;34m*\u001b[0m\u001b[0;36m65\u001b[0m\u001b[0;34m,\u001b[0m \u001b[0msep\u001b[0m\u001b[0;34m=\u001b[0m\u001b[0;34m''\u001b[0m\u001b[0;34m)\u001b[0m\u001b[0;34m\u001b[0m\u001b[0;34m\u001b[0m\u001b[0m\n\u001b[1;32m      3\u001b[0m \u001b[0mprint\u001b[0m\u001b[0;34m(\u001b[0m\u001b[0mdf1\u001b[0m\u001b[0;34m)\u001b[0m\u001b[0;34m\u001b[0m\u001b[0;34m\u001b[0m\u001b[0m\n",
      "\u001b[0;32m~/anaconda3/lib/python3.7/site-packages/pandas/core/frame.py\u001b[0m in \u001b[0;36mdrop\u001b[0;34m(self, labels, axis, index, columns, level, inplace, errors)\u001b[0m\n\u001b[1;32m   3695\u001b[0m                                            \u001b[0mindex\u001b[0m\u001b[0;34m=\u001b[0m\u001b[0mindex\u001b[0m\u001b[0;34m,\u001b[0m \u001b[0mcolumns\u001b[0m\u001b[0;34m=\u001b[0m\u001b[0mcolumns\u001b[0m\u001b[0;34m,\u001b[0m\u001b[0;34m\u001b[0m\u001b[0;34m\u001b[0m\u001b[0m\n\u001b[1;32m   3696\u001b[0m                                            \u001b[0mlevel\u001b[0m\u001b[0;34m=\u001b[0m\u001b[0mlevel\u001b[0m\u001b[0;34m,\u001b[0m \u001b[0minplace\u001b[0m\u001b[0;34m=\u001b[0m\u001b[0minplace\u001b[0m\u001b[0;34m,\u001b[0m\u001b[0;34m\u001b[0m\u001b[0;34m\u001b[0m\u001b[0m\n\u001b[0;32m-> 3697\u001b[0;31m                                            errors=errors)\n\u001b[0m\u001b[1;32m   3698\u001b[0m \u001b[0;34m\u001b[0m\u001b[0m\n\u001b[1;32m   3699\u001b[0m     @rewrite_axis_style_signature('mapper', [('copy', True),\n",
      "\u001b[0;32m~/anaconda3/lib/python3.7/site-packages/pandas/core/generic.py\u001b[0m in \u001b[0;36mdrop\u001b[0;34m(self, labels, axis, index, columns, level, inplace, errors)\u001b[0m\n\u001b[1;32m   3109\u001b[0m         \u001b[0;32mfor\u001b[0m \u001b[0maxis\u001b[0m\u001b[0;34m,\u001b[0m \u001b[0mlabels\u001b[0m \u001b[0;32min\u001b[0m \u001b[0maxes\u001b[0m\u001b[0;34m.\u001b[0m\u001b[0mitems\u001b[0m\u001b[0;34m(\u001b[0m\u001b[0;34m)\u001b[0m\u001b[0;34m:\u001b[0m\u001b[0;34m\u001b[0m\u001b[0;34m\u001b[0m\u001b[0m\n\u001b[1;32m   3110\u001b[0m             \u001b[0;32mif\u001b[0m \u001b[0mlabels\u001b[0m \u001b[0;32mis\u001b[0m \u001b[0;32mnot\u001b[0m \u001b[0;32mNone\u001b[0m\u001b[0;34m:\u001b[0m\u001b[0;34m\u001b[0m\u001b[0;34m\u001b[0m\u001b[0m\n\u001b[0;32m-> 3111\u001b[0;31m                 \u001b[0mobj\u001b[0m \u001b[0;34m=\u001b[0m \u001b[0mobj\u001b[0m\u001b[0;34m.\u001b[0m\u001b[0m_drop_axis\u001b[0m\u001b[0;34m(\u001b[0m\u001b[0mlabels\u001b[0m\u001b[0;34m,\u001b[0m \u001b[0maxis\u001b[0m\u001b[0;34m,\u001b[0m \u001b[0mlevel\u001b[0m\u001b[0;34m=\u001b[0m\u001b[0mlevel\u001b[0m\u001b[0;34m,\u001b[0m \u001b[0merrors\u001b[0m\u001b[0;34m=\u001b[0m\u001b[0merrors\u001b[0m\u001b[0;34m)\u001b[0m\u001b[0;34m\u001b[0m\u001b[0;34m\u001b[0m\u001b[0m\n\u001b[0m\u001b[1;32m   3112\u001b[0m \u001b[0;34m\u001b[0m\u001b[0m\n\u001b[1;32m   3113\u001b[0m         \u001b[0;32mif\u001b[0m \u001b[0minplace\u001b[0m\u001b[0;34m:\u001b[0m\u001b[0;34m\u001b[0m\u001b[0;34m\u001b[0m\u001b[0m\n",
      "\u001b[0;32m~/anaconda3/lib/python3.7/site-packages/pandas/core/generic.py\u001b[0m in \u001b[0;36m_drop_axis\u001b[0;34m(self, labels, axis, level, errors)\u001b[0m\n\u001b[1;32m   3141\u001b[0m                 \u001b[0mnew_axis\u001b[0m \u001b[0;34m=\u001b[0m \u001b[0maxis\u001b[0m\u001b[0;34m.\u001b[0m\u001b[0mdrop\u001b[0m\u001b[0;34m(\u001b[0m\u001b[0mlabels\u001b[0m\u001b[0;34m,\u001b[0m \u001b[0mlevel\u001b[0m\u001b[0;34m=\u001b[0m\u001b[0mlevel\u001b[0m\u001b[0;34m,\u001b[0m \u001b[0merrors\u001b[0m\u001b[0;34m=\u001b[0m\u001b[0merrors\u001b[0m\u001b[0;34m)\u001b[0m\u001b[0;34m\u001b[0m\u001b[0;34m\u001b[0m\u001b[0m\n\u001b[1;32m   3142\u001b[0m             \u001b[0;32melse\u001b[0m\u001b[0;34m:\u001b[0m\u001b[0;34m\u001b[0m\u001b[0;34m\u001b[0m\u001b[0m\n\u001b[0;32m-> 3143\u001b[0;31m                 \u001b[0mnew_axis\u001b[0m \u001b[0;34m=\u001b[0m \u001b[0maxis\u001b[0m\u001b[0;34m.\u001b[0m\u001b[0mdrop\u001b[0m\u001b[0;34m(\u001b[0m\u001b[0mlabels\u001b[0m\u001b[0;34m,\u001b[0m \u001b[0merrors\u001b[0m\u001b[0;34m=\u001b[0m\u001b[0merrors\u001b[0m\u001b[0;34m)\u001b[0m\u001b[0;34m\u001b[0m\u001b[0;34m\u001b[0m\u001b[0m\n\u001b[0m\u001b[1;32m   3144\u001b[0m             \u001b[0mresult\u001b[0m \u001b[0;34m=\u001b[0m \u001b[0mself\u001b[0m\u001b[0;34m.\u001b[0m\u001b[0mreindex\u001b[0m\u001b[0;34m(\u001b[0m\u001b[0;34m**\u001b[0m\u001b[0;34m{\u001b[0m\u001b[0maxis_name\u001b[0m\u001b[0;34m:\u001b[0m \u001b[0mnew_axis\u001b[0m\u001b[0;34m}\u001b[0m\u001b[0;34m)\u001b[0m\u001b[0;34m\u001b[0m\u001b[0;34m\u001b[0m\u001b[0m\n\u001b[1;32m   3145\u001b[0m \u001b[0;34m\u001b[0m\u001b[0m\n",
      "\u001b[0;32m~/anaconda3/lib/python3.7/site-packages/pandas/core/indexes/base.py\u001b[0m in \u001b[0;36mdrop\u001b[0;34m(self, labels, errors)\u001b[0m\n\u001b[1;32m   4402\u001b[0m             \u001b[0;32mif\u001b[0m \u001b[0merrors\u001b[0m \u001b[0;34m!=\u001b[0m \u001b[0;34m'ignore'\u001b[0m\u001b[0;34m:\u001b[0m\u001b[0;34m\u001b[0m\u001b[0;34m\u001b[0m\u001b[0m\n\u001b[1;32m   4403\u001b[0m                 raise KeyError(\n\u001b[0;32m-> 4404\u001b[0;31m                     '{} not found in axis'.format(labels[mask]))\n\u001b[0m\u001b[1;32m   4405\u001b[0m             \u001b[0mindexer\u001b[0m \u001b[0;34m=\u001b[0m \u001b[0mindexer\u001b[0m\u001b[0;34m[\u001b[0m\u001b[0;34m~\u001b[0m\u001b[0mmask\u001b[0m\u001b[0;34m]\u001b[0m\u001b[0;34m\u001b[0m\u001b[0;34m\u001b[0m\u001b[0m\n\u001b[1;32m   4406\u001b[0m         \u001b[0;32mreturn\u001b[0m \u001b[0mself\u001b[0m\u001b[0;34m.\u001b[0m\u001b[0mdelete\u001b[0m\u001b[0;34m(\u001b[0m\u001b[0mindexer\u001b[0m\u001b[0;34m)\u001b[0m\u001b[0;34m\u001b[0m\u001b[0;34m\u001b[0m\u001b[0m\n",
      "\u001b[0;31mKeyError\u001b[0m: \"['A'] not found in axis\""
     ]
    }
   ],
   "source": [
    "df1=df.drop('A')\n",
    "print(\"\\nA row (index) is dropped by using df.drop() method and axis=0\\n\",'-'*65, sep='')\n",
    "print(df1)\n"
   ]
  },
  {
   "cell_type": "code",
   "execution_count": 60,
   "metadata": {},
   "outputs": [
    {
     "name": "stdout",
     "output_type": "stream",
     "text": [
      "\n",
      "An in-place change can be done by making inplace=True in the drop method\n",
      "---------------------------------------------------------------------------\n",
      "          W         X         Y         Z       New\n",
      "B -0.634947 -0.732321  0.520497  0.236402 -0.495919\n",
      "C -0.777249  0.165330 -0.265424 -2.183972 -2.018642\n",
      "D  0.396964 -0.158034 -0.217739  0.426768  0.268733\n",
      "E  0.045613 -1.196055  0.456499  0.284715 -0.911340\n"
     ]
    }
   ],
   "source": [
    "print(\"\\nAn in-place change can be done by making inplace=True in the drop method\\n\",'-'*75, sep='')\n",
    "df.drop('New (Sum of X and Z)', axis=1, inplace=True)\n",
    "print(df)"
   ]
  },
  {
   "cell_type": "code",
   "execution_count": 61,
   "metadata": {},
   "outputs": [
    {
     "data": {
      "text/html": [
       "<div>\n",
       "<style scoped>\n",
       "    .dataframe tbody tr th:only-of-type {\n",
       "        vertical-align: middle;\n",
       "    }\n",
       "\n",
       "    .dataframe tbody tr th {\n",
       "        vertical-align: top;\n",
       "    }\n",
       "\n",
       "    .dataframe thead th {\n",
       "        text-align: right;\n",
       "    }\n",
       "</style>\n",
       "<table border=\"1\" class=\"dataframe\">\n",
       "  <thead>\n",
       "    <tr style=\"text-align: right;\">\n",
       "      <th></th>\n",
       "      <th>W</th>\n",
       "      <th>X</th>\n",
       "      <th>Y</th>\n",
       "      <th>Z</th>\n",
       "      <th>New</th>\n",
       "    </tr>\n",
       "  </thead>\n",
       "  <tbody>\n",
       "    <tr>\n",
       "      <th>B</th>\n",
       "      <td>-0.634947</td>\n",
       "      <td>-0.732321</td>\n",
       "      <td>0.520497</td>\n",
       "      <td>0.236402</td>\n",
       "      <td>-0.495919</td>\n",
       "    </tr>\n",
       "    <tr>\n",
       "      <th>C</th>\n",
       "      <td>-0.777249</td>\n",
       "      <td>0.165330</td>\n",
       "      <td>-0.265424</td>\n",
       "      <td>-2.183972</td>\n",
       "      <td>-2.018642</td>\n",
       "    </tr>\n",
       "    <tr>\n",
       "      <th>D</th>\n",
       "      <td>0.396964</td>\n",
       "      <td>-0.158034</td>\n",
       "      <td>-0.217739</td>\n",
       "      <td>0.426768</td>\n",
       "      <td>0.268733</td>\n",
       "    </tr>\n",
       "    <tr>\n",
       "      <th>E</th>\n",
       "      <td>0.045613</td>\n",
       "      <td>-1.196055</td>\n",
       "      <td>0.456499</td>\n",
       "      <td>0.284715</td>\n",
       "      <td>-0.911340</td>\n",
       "    </tr>\n",
       "  </tbody>\n",
       "</table>\n",
       "</div>"
      ],
      "text/plain": [
       "          W         X         Y         Z       New\n",
       "B -0.634947 -0.732321  0.520497  0.236402 -0.495919\n",
       "C -0.777249  0.165330 -0.265424 -2.183972 -2.018642\n",
       "D  0.396964 -0.158034 -0.217739  0.426768  0.268733\n",
       "E  0.045613 -1.196055  0.456499  0.284715 -0.911340"
      ]
     },
     "execution_count": 61,
     "metadata": {},
     "output_type": "execute_result"
    }
   ],
   "source": [
    "### Selecting/indexing Rows\n",
    "#* Label-based 'loc' method\n",
    "#* Index (numeric) 'iloc' method\n",
    "df"
   ]
  },
  {
   "cell_type": "code",
   "execution_count": 62,
   "metadata": {
    "scrolled": true
   },
   "outputs": [
    {
     "name": "stdout",
     "output_type": "stream",
     "text": [
      "\n",
      "Label-based 'loc' method can be used for selecting row(s)\n",
      "------------------------------------------------------------\n",
      "\n",
      "Single row\n",
      "\n",
      "W     -0.634947\n",
      "X     -0.732321\n",
      "Y      0.520497\n",
      "Z      0.236402\n",
      "New   -0.495919\n",
      "Name: B, dtype: float64\n"
     ]
    }
   ],
   "source": [
    "print(\"\\nLabel-based 'loc' method can be used for selecting row(s)\\n\",'-'*60, sep='')\n",
    "print(\"\\nSingle row\\n\")\n",
    "print(df.iloc[0])\n"
   ]
  },
  {
   "cell_type": "code",
   "execution_count": 63,
   "metadata": {},
   "outputs": [
    {
     "name": "stdout",
     "output_type": "stream",
     "text": [
      "\n",
      "Multiple rows\n",
      "\n",
      "          W         X         Y         Z       New\n",
      "B -0.634947 -0.732321  0.520497  0.236402 -0.495919\n",
      "C -0.777249  0.165330 -0.265424 -2.183972 -2.018642\n"
     ]
    }
   ],
   "source": [
    "print(\"\\nMultiple rows\\n\")\n",
    "print(df.loc[['B','C']])\n"
   ]
  },
  {
   "cell_type": "code",
   "execution_count": 64,
   "metadata": {},
   "outputs": [
    {
     "name": "stdout",
     "output_type": "stream",
     "text": [
      "\n",
      "Index position based 'iloc' method can be used for selecting row(s)\n",
      "----------------------------------------------------------------------\n",
      "\n",
      "Single row\n",
      "\n",
      "W      0.396964\n",
      "X     -0.158034\n",
      "Y     -0.217739\n",
      "Z      0.426768\n",
      "New    0.268733\n",
      "Name: D, dtype: float64\n"
     ]
    }
   ],
   "source": [
    "print(\"\\nIndex position based 'iloc' method can be used for selecting row(s)\\n\",'-'*70, sep='')\n",
    "print(\"\\nSingle row\\n\")\n",
    "print(df.iloc[2])\n"
   ]
  },
  {
   "cell_type": "code",
   "execution_count": 65,
   "metadata": {},
   "outputs": [
    {
     "name": "stdout",
     "output_type": "stream",
     "text": [
      "\n",
      "Multiple rows\n",
      "\n",
      "          W         X         Y         Z       New\n",
      "C -0.777249  0.165330 -0.265424 -2.183972 -2.018642\n",
      "D  0.396964 -0.158034 -0.217739  0.426768  0.268733\n"
     ]
    }
   ],
   "source": [
    "print(\"\\nMultiple rows\\n\")\n",
    "print(df.iloc[[1,2]])"
   ]
  },
  {
   "cell_type": "code",
   "execution_count": 66,
   "metadata": {},
   "outputs": [],
   "source": [
    "#### Subsetting DataFrame"
   ]
  },
  {
   "cell_type": "code",
   "execution_count": 67,
   "metadata": {},
   "outputs": [],
   "source": [
    "np.random.seed(101)\n",
    "matrix_data = rn(5,4)\n",
    "row_labels = ['A','B','C','D','E']\n",
    "column_headings = ['W','X','Y','Z']\n",
    "df = pd.DataFrame(data=matrix_data, index=row_labels, columns=column_headings)\n",
    "\n"
   ]
  },
  {
   "cell_type": "code",
   "execution_count": 68,
   "metadata": {},
   "outputs": [
    {
     "name": "stdout",
     "output_type": "stream",
     "text": [
      "\n",
      "The DatFrame\n",
      "---------------------------------------------\n",
      "          W         X         Y         Z\n",
      "A  2.706850  0.628133  0.907969  0.503826\n",
      "B  0.651118 -0.319318 -0.848077  0.605965\n",
      "C -2.018168  0.740122  0.528813 -0.589001\n",
      "D  0.188695 -0.758872 -0.933237  0.955057\n",
      "E  0.190794  1.978757  2.605967  0.683509\n"
     ]
    }
   ],
   "source": [
    "print(\"\\nThe DatFrame\\n\",'-'*45, sep='')\n",
    "print(df)\n"
   ]
  },
  {
   "cell_type": "code",
   "execution_count": 69,
   "metadata": {},
   "outputs": [
    {
     "name": "stdout",
     "output_type": "stream",
     "text": [
      "\n",
      "Element at row 'B' and column 'Y' is\n",
      "\n",
      "-0.8480769834036315\n"
     ]
    }
   ],
   "source": [
    "print(\"\\nElement at row 'B' and column 'Y' is\\n\") \n",
    "print(df.loc['B','Y'])\n"
   ]
  },
  {
   "cell_type": "code",
   "execution_count": 70,
   "metadata": {},
   "outputs": [
    {
     "name": "stdout",
     "output_type": "stream",
     "text": [
      "\n",
      "Subset comprising of rows B and D, and columns W and Y, is\n",
      "\n"
     ]
    },
    {
     "data": {
      "text/html": [
       "<div>\n",
       "<style scoped>\n",
       "    .dataframe tbody tr th:only-of-type {\n",
       "        vertical-align: middle;\n",
       "    }\n",
       "\n",
       "    .dataframe tbody tr th {\n",
       "        vertical-align: top;\n",
       "    }\n",
       "\n",
       "    .dataframe thead th {\n",
       "        text-align: right;\n",
       "    }\n",
       "</style>\n",
       "<table border=\"1\" class=\"dataframe\">\n",
       "  <thead>\n",
       "    <tr style=\"text-align: right;\">\n",
       "      <th></th>\n",
       "      <th>W</th>\n",
       "      <th>X</th>\n",
       "    </tr>\n",
       "  </thead>\n",
       "  <tbody>\n",
       "    <tr>\n",
       "      <th>B</th>\n",
       "      <td>0.651118</td>\n",
       "      <td>-0.319318</td>\n",
       "    </tr>\n",
       "    <tr>\n",
       "      <th>C</th>\n",
       "      <td>-2.018168</td>\n",
       "      <td>0.740122</td>\n",
       "    </tr>\n",
       "    <tr>\n",
       "      <th>D</th>\n",
       "      <td>0.188695</td>\n",
       "      <td>-0.758872</td>\n",
       "    </tr>\n",
       "  </tbody>\n",
       "</table>\n",
       "</div>"
      ],
      "text/plain": [
       "          W         X\n",
       "B  0.651118 -0.319318\n",
       "C -2.018168  0.740122\n",
       "D  0.188695 -0.758872"
      ]
     },
     "execution_count": 70,
     "metadata": {},
     "output_type": "execute_result"
    }
   ],
   "source": [
    "print(\"\\nSubset comprising of rows B and D, and columns W and Y, is\\n\")\n",
    "df.iloc[[1,2,3],[0,1]]"
   ]
  },
  {
   "cell_type": "code",
   "execution_count": 71,
   "metadata": {},
   "outputs": [
    {
     "name": "stdout",
     "output_type": "stream",
     "text": [
      "\n",
      "The DataFrame\n",
      "---------------------------------------------\n",
      "          W         X         Y         Z\n",
      "A  2.706850  0.628133  0.907969  0.503826\n",
      "B  0.651118 -0.319318 -0.848077  0.605965\n",
      "C -2.018168  0.740122  0.528813 -0.589001\n",
      "D  0.188695 -0.758872 -0.933237  0.955057\n",
      "E  0.190794  1.978757  2.605967  0.683509\n"
     ]
    }
   ],
   "source": [
    "print(\"\\nThe DataFrame\\n\",'-'*45, sep='')\n",
    "print(df)\n"
   ]
  },
  {
   "cell_type": "code",
   "execution_count": 72,
   "metadata": {},
   "outputs": [
    {
     "name": "stdout",
     "output_type": "stream",
     "text": [
      "\n",
      "Boolean DataFrame(s) where we are checking if the values are greater than 0\n",
      "---------------------------------------------------------------------------\n",
      "       W      X      Y      Z\n",
      "A   True   True   True   True\n",
      "B   True  False  False   True\n",
      "C  False   True   True  False\n",
      "D   True  False  False   True\n",
      "E   True   True   True   True\n"
     ]
    }
   ],
   "source": [
    "print(\"\\nBoolean DataFrame(s) where we are checking if the values are greater than 0\\n\",'-'*75, sep='')\n",
    "print(df>0)\n"
   ]
  },
  {
   "cell_type": "code",
   "execution_count": 73,
   "metadata": {},
   "outputs": [
    {
     "name": "stdout",
     "output_type": "stream",
     "text": [
      "\n",
      "\n",
      "       W      X      Y      Z\n",
      "A   True   True   True   True\n",
      "B   True  False  False   True\n",
      "C  False   True   True  False\n"
     ]
    }
   ],
   "source": [
    "print(\"\\n\")\n",
    "print(df.loc[['A','B','C']]>0)\n"
   ]
  },
  {
   "cell_type": "code",
   "execution_count": 74,
   "metadata": {},
   "outputs": [
    {
     "name": "stdout",
     "output_type": "stream",
     "text": [
      "\n",
      "DataFrame indexed by boolean dataframe\n",
      "---------------------------------------------\n",
      "          W         X         Y         Z\n",
      "A  2.706850  0.628133  0.907969  0.503826\n",
      "B  0.651118       NaN       NaN  0.605965\n",
      "C       NaN  0.740122  0.528813       NaN\n",
      "D  0.188695       NaN       NaN  0.955057\n",
      "E  0.190794  1.978757  2.605967  0.683509\n"
     ]
    }
   ],
   "source": [
    "booldf = df>0\n",
    "print(\"\\nDataFrame indexed by boolean dataframe\\n\",'-'*45, sep='')\n",
    "print(df[booldf])"
   ]
  },
  {
   "cell_type": "code",
   "execution_count": 75,
   "metadata": {},
   "outputs": [],
   "source": [
    "matrix_data = np.matrix('22,66,140;42,70,148;30,62,125;35,68,160;25,62,152')\n",
    "row_labels = ['A','B','C','D','E']\n",
    "column_headings = ['Age', 'Height', 'Weight']\n"
   ]
  },
  {
   "cell_type": "code",
   "execution_count": 76,
   "metadata": {},
   "outputs": [
    {
     "name": "stdout",
     "output_type": "stream",
     "text": [
      "\n",
      "A new DataFrame\n",
      "-------------------------\n",
      "   Age  Height  Weight\n",
      "A   22      66     140\n",
      "B   42      70     148\n",
      "C   30      62     125\n",
      "D   35      68     160\n",
      "E   25      62     152\n"
     ]
    }
   ],
   "source": [
    "df = pd.DataFrame(data=matrix_data, index=row_labels, columns=column_headings)\n",
    "print(\"\\nA new DataFrame\\n\",'-'*25, sep='')\n",
    "print(df)\n"
   ]
  },
  {
   "cell_type": "code",
   "execution_count": 98,
   "metadata": {},
   "outputs": [
    {
     "name": "stdout",
     "output_type": "stream",
     "text": [
      "\n",
      "Rows with Height > 65 inch\n",
      "-----------------------------------\n",
      "   Age  Height  Weight Profession\n",
      "A   22      66     140    Student\n",
      "B   42      70     148    Teacher\n",
      "D   35      68     160     Doctor\n"
     ]
    }
   ],
   "source": [
    "print(\"\\nRows with Height > 65 inch\\n\",'-'*35, sep='')\n",
    "print(df[df['Height']>65])\n"
   ]
  },
  {
   "cell_type": "code",
   "execution_count": 97,
   "metadata": {},
   "outputs": [
    {
     "data": {
      "text/plain": [
       "A     True\n",
       "B     True\n",
       "C    False\n",
       "D     True\n",
       "E    False\n",
       "Name: Height, dtype: bool"
      ]
     },
     "execution_count": 97,
     "metadata": {},
     "output_type": "execute_result"
    }
   ],
   "source": [
    "df['Height']>65"
   ]
  },
  {
   "cell_type": "code",
   "execution_count": 78,
   "metadata": {},
   "outputs": [],
   "source": [
    "booldf1 = df['Height']>65\n",
    "booldf2 = df['Weight']>145\n"
   ]
  },
  {
   "cell_type": "code",
   "execution_count": 100,
   "metadata": {},
   "outputs": [
    {
     "name": "stdout",
     "output_type": "stream",
     "text": [
      "\n",
      "Rows with Height > 65 inch and Weight >145 lbs\n",
      "-------------------------------------------------------\n",
      "   Age  Height  Weight Profession\n",
      "B   42      70     148    Teacher\n",
      "D   35      68     160     Doctor\n"
     ]
    }
   ],
   "source": [
    "print(\"\\nRows with Height > 65 inch and Weight >145 lbs\\n\",'-'*55, sep='')\n",
    "print(df[(booldf1) & (booldf2)])\n"
   ]
  },
  {
   "cell_type": "code",
   "execution_count": 80,
   "metadata": {},
   "outputs": [
    {
     "name": "stdout",
     "output_type": "stream",
     "text": [
      "\n",
      "DataFrame with only Age and Weight columns whose Height > 65 inch\n",
      "--------------------------------------------------------------------\n",
      "   Age  Weight\n",
      "A   22     140\n",
      "B   42     148\n",
      "D   35     160\n"
     ]
    }
   ],
   "source": [
    "print(\"\\nDataFrame with only Age and Weight columns whose Height > 65 inch\\n\",'-'*68, sep='')\n",
    "print(df[booldf1][['Age','Weight']])"
   ]
  },
  {
   "cell_type": "code",
   "execution_count": 101,
   "metadata": {},
   "outputs": [],
   "source": [
    "matrix_data = np.matrix('22,66,140;42,70,148;30,62,125;35,68,160;25,62,152')\n",
    "row_labels = ['A','B','C','D','E']\n",
    "column_headings = ['Age', 'Height', 'Weight']\n"
   ]
  },
  {
   "cell_type": "code",
   "execution_count": 102,
   "metadata": {},
   "outputs": [
    {
     "name": "stdout",
     "output_type": "stream",
     "text": [
      "\n",
      "The DataFrame\n",
      "-------------------------\n",
      "   Age  Height  Weight\n",
      "A   22      66     140\n",
      "B   42      70     148\n",
      "C   30      62     125\n",
      "D   35      68     160\n",
      "E   25      62     152\n"
     ]
    }
   ],
   "source": [
    "df = pd.DataFrame(data=matrix_data, index=row_labels, columns=column_headings)\n",
    "print(\"\\nThe DataFrame\\n\",'-'*25, sep='')\n",
    "print(df)\n"
   ]
  },
  {
   "cell_type": "code",
   "execution_count": 103,
   "metadata": {},
   "outputs": [
    {
     "name": "stdout",
     "output_type": "stream",
     "text": [
      "\n",
      "After resetting index\n",
      "-----------------------------------\n",
      "  index  Age  Height  Weight\n",
      "0     A   22      66     140\n",
      "1     B   42      70     148\n",
      "2     C   30      62     125\n",
      "3     D   35      68     160\n",
      "4     E   25      62     152\n"
     ]
    }
   ],
   "source": [
    "print(\"\\nAfter resetting index\\n\",'-'*35, sep='')\n",
    "print(df.reset_index())\n"
   ]
  },
  {
   "cell_type": "code",
   "execution_count": 84,
   "metadata": {},
   "outputs": [
    {
     "name": "stdout",
     "output_type": "stream",
     "text": [
      "\n",
      "After resetting index with 'drop' option TRUE\n",
      "---------------------------------------------\n",
      "   Age  Height  Weight\n",
      "0   22      66     140\n",
      "1   42      70     148\n",
      "2   30      62     125\n",
      "3   35      68     160\n",
      "4   25      62     152\n"
     ]
    }
   ],
   "source": [
    "print(\"\\nAfter resetting index with 'drop' option TRUE\\n\",'-'*45, sep='')\n",
    "print(df.reset_index(drop=True))\n"
   ]
  },
  {
   "cell_type": "code",
   "execution_count": 104,
   "metadata": {},
   "outputs": [
    {
     "name": "stdout",
     "output_type": "stream",
     "text": [
      "\n",
      "Adding a new column 'Profession'\n",
      "---------------------------------------------\n",
      "   Age  Height  Weight Profession\n",
      "A   22      66     140    Student\n",
      "B   42      70     148    Teacher\n",
      "C   30      62     125   Engineer\n",
      "D   35      68     160     Doctor\n",
      "E   25      62     152      Nurse\n"
     ]
    }
   ],
   "source": [
    "print(\"\\nAdding a new column 'Profession'\\n\",'-'*45, sep='')\n",
    "df['Profession'] = \"Student Teacher Engineer Doctor Nurse\".split()\n",
    "print(df)\n"
   ]
  },
  {
   "cell_type": "code",
   "execution_count": 86,
   "metadata": {},
   "outputs": [
    {
     "name": "stdout",
     "output_type": "stream",
     "text": [
      "\n",
      "Setting 'Profession' column as index\n",
      "---------------------------------------------\n",
      "            Age  Height  Weight\n",
      "Profession                     \n",
      "Student      22      66     140\n",
      "Teacher      42      70     148\n",
      "Engineer     30      62     125\n",
      "Doctor       35      68     160\n",
      "Nurse        25      62     152\n"
     ]
    }
   ],
   "source": [
    "print(\"\\nSetting 'Profession' column as index\\n\",'-'*45, sep='')\n",
    "print (df.set_index('Profession'))"
   ]
  },
  {
   "cell_type": "code",
   "execution_count": 109,
   "metadata": {},
   "outputs": [],
   "source": [
    "#multi-indexing\n",
    "# Index Levels\n",
    "outside = ['G1','G1','G1','G2','G2','G2']\n",
    "inside = [1,2,3,1,2,3]\n",
    "hier_index = list(zip(outside,inside))\n"
   ]
  },
  {
   "cell_type": "code",
   "execution_count": 110,
   "metadata": {},
   "outputs": [
    {
     "name": "stdout",
     "output_type": "stream",
     "text": [
      "\n",
      "Tuple pairs after the zip and list command\n",
      "---------------------------------------------\n",
      "[('G1', 1), ('G1', 2), ('G1', 3), ('G2', 1), ('G2', 2), ('G2', 3)]\n"
     ]
    }
   ],
   "source": [
    "print(\"\\nTuple pairs after the zip and list command\\n\",'-'*45, sep='')\n",
    "print(hier_index)\n"
   ]
  },
  {
   "cell_type": "code",
   "execution_count": 89,
   "metadata": {},
   "outputs": [
    {
     "name": "stdout",
     "output_type": "stream",
     "text": [
      "\n",
      "Index hierarchy\n",
      "-------------------------\n",
      "MultiIndex(levels=[['G1', 'G2'], [1, 2, 3]],\n",
      "           labels=[[0, 0, 0, 1, 1, 1], [0, 1, 2, 0, 1, 2]])\n"
     ]
    }
   ],
   "source": [
    "hier_index = pd.MultiIndex.from_tuples(hier_index)\n",
    "print(\"\\nIndex hierarchy\\n\",'-'*25, sep='')\n",
    "print(hier_index)\n"
   ]
  },
  {
   "cell_type": "code",
   "execution_count": 90,
   "metadata": {},
   "outputs": [
    {
     "name": "stdout",
     "output_type": "stream",
     "text": [
      "\n",
      "Index hierarchy type\n",
      "-------------------------\n",
      "<class 'pandas.core.indexes.multi.MultiIndex'>\n"
     ]
    }
   ],
   "source": [
    "print(\"\\nIndex hierarchy type\\n\",'-'*25, sep='')\n",
    "print(type(hier_index))\n"
   ]
  },
  {
   "cell_type": "code",
   "execution_count": 91,
   "metadata": {},
   "outputs": [
    {
     "name": "stdout",
     "output_type": "stream",
     "text": [
      "\n",
      "Creating DataFrame with multi-index\n",
      "-------------------------------------\n",
      "         A     B     C\n",
      "G1 1  2.71  0.63  0.91\n",
      "   2  0.50  0.65 -0.32\n",
      "   3 -0.85  0.61 -2.02\n",
      "G2 1  0.74  0.53 -0.59\n",
      "   2  0.19 -0.76 -0.93\n",
      "   3  0.96  0.19  1.98\n"
     ]
    }
   ],
   "source": [
    "print(\"\\nCreating DataFrame with multi-index\\n\",'-'*37, sep='')\n",
    "np.random.seed(101)\n",
    "df1 = pd.DataFrame(data=np.round(rn(6,3),2), index= hier_index, columns= ['A','B','C'])\n",
    "print(df1)\n"
   ]
  },
  {
   "cell_type": "code",
   "execution_count": 114,
   "metadata": {},
   "outputs": [
    {
     "name": "stdout",
     "output_type": "stream",
     "text": [
      "\n",
      "Subsetting multi-index DataFrame using two 'loc' methods\n",
      "------------------------------------------------------------\n",
      "          B\n",
      "Inner      \n",
      "3      0.61\n"
     ]
    }
   ],
   "source": [
    "print(\"\\nSubsetting multi-index DataFrame using two 'loc' methods\\n\",'-'*60, sep='')\n",
    "print(df1.loc['G1'].loc[[3]][['B']])\n"
   ]
  },
  {
   "cell_type": "code",
   "execution_count": 113,
   "metadata": {},
   "outputs": [
    {
     "data": {
      "text/html": [
       "<div>\n",
       "<style scoped>\n",
       "    .dataframe tbody tr th:only-of-type {\n",
       "        vertical-align: middle;\n",
       "    }\n",
       "\n",
       "    .dataframe tbody tr th {\n",
       "        vertical-align: top;\n",
       "    }\n",
       "\n",
       "    .dataframe thead th {\n",
       "        text-align: right;\n",
       "    }\n",
       "</style>\n",
       "<table border=\"1\" class=\"dataframe\">\n",
       "  <thead>\n",
       "    <tr style=\"text-align: right;\">\n",
       "      <th></th>\n",
       "      <th>B</th>\n",
       "      <th>C</th>\n",
       "    </tr>\n",
       "    <tr>\n",
       "      <th>Inner</th>\n",
       "      <th></th>\n",
       "      <th></th>\n",
       "    </tr>\n",
       "  </thead>\n",
       "  <tbody>\n",
       "    <tr>\n",
       "      <th>1</th>\n",
       "      <td>0.53</td>\n",
       "      <td>-0.59</td>\n",
       "    </tr>\n",
       "    <tr>\n",
       "      <th>3</th>\n",
       "      <td>0.19</td>\n",
       "      <td>1.98</td>\n",
       "    </tr>\n",
       "  </tbody>\n",
       "</table>\n",
       "</div>"
      ],
      "text/plain": [
       "          B     C\n",
       "Inner            \n",
       "1      0.53 -0.59\n",
       "3      0.19  1.98"
      ]
     },
     "execution_count": 113,
     "metadata": {},
     "output_type": "execute_result"
    }
   ],
   "source": [
    "df1.loc['G2'].loc[[1,3]][['B','C']]"
   ]
  },
  {
   "cell_type": "code",
   "execution_count": null,
   "metadata": {},
   "outputs": [],
   "source": []
  },
  {
   "cell_type": "code",
   "execution_count": 93,
   "metadata": {},
   "outputs": [
    {
     "name": "stdout",
     "output_type": "stream",
     "text": [
      "\n",
      "Naming the indices by 'index.names' method\n",
      "---------------------------------------------\n",
      "                A     B     C\n",
      "Outer Inner                  \n",
      "G1    1      2.71  0.63  0.91\n",
      "      2      0.50  0.65 -0.32\n",
      "      3     -0.85  0.61 -2.02\n",
      "G2    1      0.74  0.53 -0.59\n",
      "      2      0.19 -0.76 -0.93\n",
      "      3      0.96  0.19  1.98\n"
     ]
    }
   ],
   "source": [
    "print(\"\\nNaming the indices by 'index.names' method\\n\",'-'*45, sep='')\n",
    "df1.index.names=['Outer', 'Inner']\n",
    "print(df1)"
   ]
  },
  {
   "cell_type": "code",
   "execution_count": 94,
   "metadata": {},
   "outputs": [],
   "source": [
    "#cross tabulation like pivot table"
   ]
  },
  {
   "cell_type": "code",
   "execution_count": 95,
   "metadata": {},
   "outputs": [
    {
     "name": "stdout",
     "output_type": "stream",
     "text": [
      "\n",
      "Grabbing a cross-section from outer level\n",
      "---------------------------------------------\n",
      "          A     B     C\n",
      "Inner                  \n",
      "1      2.71  0.63  0.91\n",
      "2      0.50  0.65 -0.32\n",
      "3     -0.85  0.61 -2.02\n"
     ]
    }
   ],
   "source": [
    "print(\"\\nGrabbing a cross-section from outer level\\n\",'-'*45, sep='')\n",
    "print(df1.xs('G1'))\n"
   ]
  },
  {
   "cell_type": "code",
   "execution_count": 115,
   "metadata": {},
   "outputs": [
    {
     "name": "stdout",
     "output_type": "stream",
     "text": [
      "\n",
      "Grabbing a cross-section from inner level (for all outer levels)\n",
      "-----------------------------------------------------------------\n",
      "          A     B     C\n",
      "Outer                  \n",
      "G1     0.50  0.65 -0.32\n",
      "G2     0.19 -0.76 -0.93\n"
     ]
    }
   ],
   "source": [
    "print(\"\\nGrabbing a cross-section from inner level (for all outer levels)\\n\",'-'*65, sep='')\n",
    "print(df1.xs(2,level='Inner'))"
   ]
  },
  {
   "cell_type": "code",
   "execution_count": null,
   "metadata": {},
   "outputs": [],
   "source": []
  }
 ],
 "metadata": {
  "kernelspec": {
   "display_name": "Python 3",
   "language": "python",
   "name": "python3"
  },
  "language_info": {
   "codemirror_mode": {
    "name": "ipython",
    "version": 3
   },
   "file_extension": ".py",
   "mimetype": "text/x-python",
   "name": "python",
   "nbconvert_exporter": "python",
   "pygments_lexer": "ipython3",
   "version": "3.7.1"
  }
 },
 "nbformat": 4,
 "nbformat_minor": 2
}
